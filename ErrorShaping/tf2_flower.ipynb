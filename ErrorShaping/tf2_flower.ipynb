{
  "nbformat": 4,
  "nbformat_minor": 0,
  "metadata": {
    "colab": {
      "name": "tf2_flower.ipynb",
      "version": "0.3.2",
      "provenance": [],
      "collapsed_sections": []
    },
    "language_info": {
      "codemirror_mode": {
        "name": "ipython",
        "version": 3
      },
      "file_extension": ".py",
      "mimetype": "text/x-python",
      "name": "python",
      "nbconvert_exporter": "python",
      "pygments_lexer": "ipython3",
      "version": "3.5.2"
    },
    "kernelspec": {
      "name": "python3",
      "display_name": "Python 3"
    }
  },
  "cells": [
    {
      "cell_type": "code",
      "metadata": {
        "colab_type": "code",
        "id": "jElLULrDhQZR",
        "colab": {
          "base_uri": "https://localhost:8080/",
          "height": 52
        },
        "outputId": "2a382f03-d76d-46e3-c64e-2b48011e3e00"
      },
      "source": [
        "from __future__ import absolute_import, division, print_function, unicode_literals\n",
        "import os\n",
        "import matplotlib.pyplot as plt\n",
        "!pip install -q tensorflow==2.0.0-beta1\n",
        "import tensorflow as tf\n",
        "import numpy as np\n",
        "print(\"TensorFlow version: {}\".format(tf.__version__))\n",
        "print(\"Eager execution: {}\".format(tf.executing_eagerly()))"
      ],
      "execution_count": 1,
      "outputs": [
        {
          "output_type": "stream",
          "text": [
            "TensorFlow version: 2.0.0-beta1\n",
            "Eager execution: True\n"
          ],
          "name": "stdout"
        }
      ]
    },
    {
      "cell_type": "code",
      "metadata": {
        "colab_type": "code",
        "id": "9Edhevw7exl6",
        "colab": {
          "base_uri": "https://localhost:8080/",
          "height": 143
        },
        "outputId": "4146a289-1826-450e-83d5-6786ed2a80ca"
      },
      "source": [
        "train_dataset_url = \"https://storage.googleapis.com/download.tensorflow.org/data/iris_training.csv\"\n",
        "train_dataset_fp = tf.keras.utils.get_file(fname=os.path.basename(train_dataset_url),\n",
        "                                           origin=train_dataset_url)\n",
        "#print(\"Local copy of the dataset file: {}\".format(train_dataset_fp))\n",
        "#!head -n5 {train_dataset_fp}\n",
        "# column order in CSV file\n",
        "column_names = ['sepal_length', 'sepal_width', 'petal_length', 'petal_width', 'species']\n",
        "\n",
        "feature_names = column_names[:-1]\n",
        "label_name = column_names[-1]\n",
        "\n",
        "#print(\"Features: {}\".format(feature_names))\n",
        "#print(\"Label: {}\".format(label_name))\n",
        "class_names = ['Iris setosa', 'Iris versicolor', 'Iris virginica']\n",
        "batch_size = 32\n",
        "\n",
        "train_dataset = tf.data.experimental.make_csv_dataset(\n",
        "    train_dataset_fp,\n",
        "    batch_size,\n",
        "    column_names=column_names,\n",
        "    label_name=label_name,\n",
        "    num_epochs=1)\n",
        "\n",
        "features, labels = next(iter(train_dataset))\n",
        "\"\"\"\n",
        "print(features)\n",
        "plt.scatter(features['petal_length'],\n",
        "            features['sepal_length'],\n",
        "            c=labels,\n",
        "            cmap='viridis')\n",
        "\n",
        "plt.xlabel(\"Petal length\")\n",
        "plt.ylabel(\"Sepal length\")\n",
        "plt.show()\n",
        "\"\"\"\n",
        "def pack_features_vector(features, labels):\n",
        "  \"\"\"Pack the features into a single array.\"\"\"\n",
        "  features = tf.stack(list(features.values()), axis=1)\n",
        "  return features, labels\n",
        "train_dataset = train_dataset.map(pack_features_vector)\n",
        "features, labels = next(iter(train_dataset))\n",
        "#print(features[:5])\n",
        "model = tf.keras.Sequential([\n",
        "  tf.keras.layers.Dense(10, activation=tf.nn.relu, input_shape=(4,)),  # input shape required\n",
        "  tf.keras.layers.Dense(10, activation=tf.nn.relu),\n",
        "  tf.keras.layers.Dense(3)\n",
        "])\n",
        "predictions = model(features)\n",
        "#predictions[:5]\n",
        "tf.nn.softmax(predictions[:5])\n",
        "print(\"Prediction: {}\".format(tf.argmax(predictions, axis=1)))\n",
        "print(\"    Labels: {}\".format(labels))\n"
      ],
      "execution_count": 2,
      "outputs": [
        {
          "output_type": "stream",
          "text": [
            "WARNING: Logging before flag parsing goes to stderr.\n",
            "W0627 19:33:43.762685 140572835215232 deprecation.py:323] From /usr/local/lib/python3.6/dist-packages/tensorflow/python/data/experimental/ops/readers.py:498: parallel_interleave (from tensorflow.python.data.experimental.ops.interleave_ops) is deprecated and will be removed in a future version.\n",
            "Instructions for updating:\n",
            "Use `tf.data.Dataset.interleave(map_func, cycle_length, block_length, num_parallel_calls=tf.data.experimental.AUTOTUNE)` instead. If sloppy execution is desired, use `tf.data.Options.experimental_determinstic`.\n"
          ],
          "name": "stderr"
        },
        {
          "output_type": "stream",
          "text": [
            "Prediction: [0 0 0 0 0 0 0 0 0 0 0 0 0 0 0 0 0 0 0 0 0 0 0 0 0 0 0 0 0 0 0 0]\n",
            "    Labels: [0 2 0 1 0 2 1 1 0 0 2 0 0 1 1 2 0 0 1 0 0 1 1 2 1 2 0 2 1 1 2 2]\n"
          ],
          "name": "stdout"
        }
      ]
    },
    {
      "cell_type": "markdown",
      "metadata": {
        "id": "vU90yMn1UOuh",
        "colab_type": "text"
      },
      "source": [
        "Let's first look at the performence of a "
      ]
    },
    {
      "cell_type": "code",
      "metadata": {
        "id": "rf6k0U7UUOHj",
        "colab_type": "code",
        "colab": {
          "base_uri": "https://localhost:8080/",
          "height": 664
        },
        "outputId": "cbb9934b-5ce3-4d89-9ead-d8fa40e20579"
      },
      "source": [
        "loss_object = tf.keras.losses.SparseCategoricalCrossentropy(from_logits=True)\n",
        "def loss(model, x, y):\n",
        "  y_ = model(x)\n",
        "  return loss_object(y_true=y, y_pred=y_)\n",
        "\n",
        "l = loss(model, features, labels)\n",
        "print(\"Loss test: {}\".format(l))\n",
        "def grad(model, inputs, targets):\n",
        "  with tf.GradientTape() as tape:\n",
        "    loss_value = loss(model, inputs, targets)\n",
        "  return loss_value, tape.gradient(loss_value, model.trainable_variables)\n",
        "optimizer = tf.keras.optimizers.Adam(learning_rate=0.01)\n",
        "train_loss_results = []\n",
        "train_accuracy_results = []\n",
        "\n",
        "num_epochs = 201\n",
        "\n",
        "for epoch in range(num_epochs):\n",
        "  epoch_loss_avg = tf.keras.metrics.Mean()\n",
        "  epoch_accuracy = tf.keras.metrics.SparseCategoricalAccuracy()\n",
        "\n",
        "  # Training loop - using batches of 32\n",
        "  for x, y in train_dataset:\n",
        "    # Optimize the model\n",
        "    loss_value, grads = grad(model, x, y)\n",
        "    optimizer.apply_gradients(zip(grads, model.trainable_variables))\n",
        "\n",
        "    # Track progress\n",
        "    epoch_loss_avg(loss_value)  # add current batch loss\n",
        "    # compare predicted label to actual label\n",
        "    epoch_accuracy(y, model(x))\n",
        "\n",
        "  # end epoch\n",
        "  train_loss_results.append(epoch_loss_avg.result())\n",
        "  train_accuracy_results.append(epoch_accuracy.result())\n",
        "\n",
        "  if epoch % 50 == 0:\n",
        "    print(\"Epoch {:03d}: Loss: {:.3f}, Accuracy: {:.3%}\".format(epoch,\n",
        "                                                                epoch_loss_avg.result(),\n",
        "                                                                epoch_accuracy.result()))\n",
        "fig, axes = plt.subplots(2, sharex=True, figsize=(12, 8))\n",
        "fig.suptitle('Training Metrics')\n",
        "\n",
        "axes[0].set_ylabel(\"Loss\", fontsize=14)\n",
        "axes[0].plot(train_loss_results)\n",
        "\n",
        "axes[1].set_ylabel(\"Accuracy\", fontsize=14)\n",
        "axes[1].set_xlabel(\"Epoch\", fontsize=14)\n",
        "axes[1].plot(train_accuracy_results)\n",
        "plt.show()"
      ],
      "execution_count": 63,
      "outputs": [
        {
          "output_type": "stream",
          "text": [
            "Loss test: 0.2469310462474823\n",
            "Epoch 000: Loss: 0.330, Accuracy: 87.500%\n",
            "Epoch 050: Loss: 0.057, Accuracy: 98.333%\n",
            "Epoch 100: Loss: 0.047, Accuracy: 98.333%\n",
            "Epoch 150: Loss: 0.070, Accuracy: 98.333%\n",
            "Epoch 200: Loss: 0.055, Accuracy: 97.500%\n"
          ],
          "name": "stdout"
        },
        {
          "output_type": "display_data",
          "data": {
            "image/png": "[encoded data removed]",
            "text/plain": [
              "<Figure size 864x576 with 2 Axes>"
            ]
          },
          "metadata": {
            "tags": []
          }
        }
      ]
    },
    {
      "cell_type": "markdown",
      "metadata": {
        "id": "u681mWic2His",
        "colab_type": "text"
      },
      "source": [
        "Our design of loss function is the distance between the distribution of errors and the continuous target distribution which can be Gaussian or Delta. Given that Delta is meaningless beyound integral, andt its integral, which is a step function, is dicontinuous. Let's consider Normal distribution. Normal distribution is much nicer. Actually, its density is infinitely differetiable with a very nice form:\n",
        "\n",
        "![alt text](http://i64.tinypic.com/2461h5y.png)    where ![alt text](http://i66.tinypic.com/j6lruh.jpg) is the density function for ![alt text](http://i68.tinypic.com/k1yp9i.png)\n",
        "\n",
        "-------------------------------------------------------------------------------------------------------\n",
        "Let's give up on calculating the differenation of Normal pdf.\n",
        "\n",
        "\n",
        "Thanks for [Shangkun](https://github.com/polossk)'s help, I will use kernel method here, more specifically, MMD ([Maximum Mean Divergence](https://stats.stackexchange.com/questions/276497/maximum-mean-discrepancy-distance-distribution)), to calculate the similarity between the distribution of the sample, and the target distribution. This method uses large size of samples to approximiate the target distribution. Compared to methods such as fitting parametric distribution, curve fitting,  using MMD here has several advantage:\n",
        "\n",
        "\n",
        "*   Allows samples of different size\n",
        "*   differentiable\n",
        "*   easy to calculate\n",
        "*   no assumption for distribution or polynomial curve\n",
        "*   no hyper-parameter, flexible for different batch size and good for reproducibility\n",
        "*   avoid dealing with overfitting\n",
        "\n",
        "The specific kernel function I used here is:\n",
        "\n",
        "![alt text](http://i63.tinypic.com/25he81f.png)\n",
        "\n",
        "The partial derivative of MMD w.r.t  xi is:\n",
        "\n",
        "\n",
        "![alt text](http://i67.tinypic.com/34e9sig.png)\n",
        "\n",
        "\n",
        "To illustate this method makes sense, an example is show below, you can see the distributions of `b` and `c` are more similar than those of `a` and `c`, correspondingly, you can see the MMD of  `b` and `c` is smaller than that of `a` and `c`."
      ]
    },
    {
      "cell_type": "code",
      "metadata": {
        "id": "FrV1Ypqf7KuR",
        "colab_type": "code",
        "colab": {
          "base_uri": "https://localhost:8080/",
          "height": 323
        },
        "outputId": "a32eee5c-1508-4b7e-c4fa-b22e4bb53db1"
      },
      "source": [
        "from matplotlib.patches import Rectangle\n",
        "\n",
        "def MMD1d(x1, x2): # a and b are lists of aribiturary lengths\n",
        "  dis = sum([x**2 for x in x1])/len(x1) - sum([x**2 for x in x2])/len(x2)\n",
        "  return dis**2\n",
        "\n",
        "a, b, c = [-40, -40, -35, 40, 35, 40], [-10, -5, -15, -20,2, 5, 10], [-1,-6,-4,-1, 0, 2, 4, 1, 3, 2, 0, 8]\n",
        "print(f'a:{a} b:{b} c:{c}', '\\nMMD1d(a, c):%.4f.   MMD1d(b, c):%8.4f'%(MMD1d(a, c),MMD1d(b, c)))\n",
        "\n",
        "a_N, a_bins, a_patches = plt.hist(np.array(a), 30, ec=\"k\")\n",
        "b_N, b_bins, b_patches = plt.hist(np.array(b), 30, ec=\"k\")\n",
        "c_N, c_bins, c_patches = plt.hist(np.array(c), 30, ec=\"k\")\n",
        "cmap = plt.get_cmap('jet')\n",
        "for i in range(30):\n",
        "  a_patches[i].set_facecolor(cmap(0.25))\n",
        "for i in range(30):\n",
        "  b_patches[i].set_facecolor(cmap(0.4))\n",
        "for i in range(30):\n",
        "  c_patches[i].set_facecolor(cmap(0.8))\n",
        "handles = [Rectangle((0,0),1,1,color=c,ec=\"k\") for c in [cmap(0.25),cmap(0.4), cmap(0.8)]]\n",
        "lab= [\"a\",\"b\", \"c\"]\n",
        "plt.legend(handles, lab)\n",
        "plt.xlabel(\"x\", fontsize=16)  \n",
        "plt.ylabel(\"count\", fontsize=16)\n",
        "plt.show()"
      ],
      "execution_count": 3,
      "outputs": [
        {
          "output_type": "stream",
          "text": [
            "a:[-40, -40, -35, 40, 35, 40] b:[-10, -5, -15, -20, 2, 5, 10] c:[-1, -6, -4, -1, 0, 2, 4, 1, 3, 2, 0, 8] \n",
            "MMD1d(a, c):2138418.7778.   MMD1d(b, c):12747.4853\n"
          ],
          "name": "stdout"
        },
        {
          "output_type": "display_data",
          "data": {
            "image/png": "[encoded data removed]",
            "text/plain": [
              "<Figure size 432x288 with 1 Axes>"
            ]
          },
          "metadata": {
            "tags": []
          }
        }
      ]
    },
    {
      "cell_type": "markdown",
      "metadata": {
        "id": "W4tr7szgB1mZ",
        "colab_type": "text"
      },
      "source": [
        "Just for record, my original loss function is designed as below, the grads will return a list of 6 `None`s for 3 layers model. The reason is that the original loss function is not differentiable. "
      ]
    },
    {
      "cell_type": "code",
      "metadata": {
        "id": "BUgOlm5ZFatw",
        "colab_type": "code",
        "colab": {
          "base_uri": "https://localhost:8080/",
          "height": 143
        },
        "outputId": "7f7cf245-f9dc-400a-d552-1562f7686c52"
      },
      "source": [
        "import scipy.stats\n",
        "\n",
        "def get_distance_between_samples_and_distribution(errors, if_plot = 1, n_bins = 5):\n",
        "  def get_middle(x):\n",
        "    xMid = np.zeros(x.shape[0]//2)\n",
        "    for i in range(xMid.shape[0]):\n",
        "      xMid[i] = 0.5*(x[2*i]+x[2*i+1])\n",
        "    return xMid\n",
        "\n",
        "  bins, edges = np.histogram(errors, n_bins, normed=1)\n",
        "  left,right = edges[:-1],edges[1:]\n",
        "  X = np.array([left,right]).T.flatten()\n",
        "  Y = np.array([bins,bins]).T.flatten()\n",
        "  X_middle = get_middle(X)\n",
        "  Y_middle = get_middle(Y)\n",
        "  distance = []\n",
        "  for i in range(X_middle.shape[0]):\n",
        "    dis = np.square(scipy.stats.norm.pdf(X_middle[i])- Y_middle[i])\n",
        "    distance.append(dis)\n",
        "  distance2 = np.power(distance, 2)\n",
        "  \n",
        "  return sum(distance2)/len(distance2)\n",
        "\n",
        "loss_object = tf.keras.losses.SparseCategoricalCrossentropy(from_logits=True)\n",
        "def loss(model, x, y):\n",
        "  y_ = model(x)\n",
        "  losses = []\n",
        "  # y_.shape is (batch_size, 3)\n",
        "  for i in range(y.shape[0]):\n",
        "    loss = loss_object(y_true=y[i], y_pred=y_[i])\n",
        "    losses.append(loss)\n",
        "  dis = get_distance_between_samples_and_distribution(losses, if_plot = 0)\n",
        "  return tf.convert_to_tensor(dis, dtype=np.float32)\n",
        "\n",
        "def grad(model, inputs, targets):\n",
        "  with tf.GradientTape() as tape:\n",
        "    tape.watch(model.trainable_variables)\n",
        "    loss_value = loss(model, inputs, targets)\n",
        "  return loss_value, tape.gradient(loss_value, model.trainable_variables)\n",
        "\n",
        "loss_value, grads = grad(model, features, labels)\n",
        "print(\"loss_value:\",loss_value)\n",
        "print(\"type(loss_value):\", type(loss_value))\n",
        "print(\"\\ngrads:\", grads)"
      ],
      "execution_count": 81,
      "outputs": [
        {
          "output_type": "stream",
          "text": [
            "loss_value: tf.Tensor(0.124988295, shape=(), dtype=float32)\n",
            "type(loss_value): <class 'tensorflow.python.framework.ops.EagerTensor'>\n",
            "\n",
            "grads: [None, None, None, None, None, None]\n"
          ],
          "name": "stdout"
        },
        {
          "output_type": "stream",
          "text": [
            "/usr/local/lib/python3.6/dist-packages/ipykernel_launcher.py:10: VisibleDeprecationWarning: Passing `normed=True` on non-uniform bins has always been broken, and computes neither the probability density function nor the probability mass function. The result is only correct if the bins are uniform, when density=True will produce the same result anyway. The argument will be removed in a future version of numpy.\n",
            "  # Remove the CWD from sys.path while we load stuff.\n"
          ],
          "name": "stderr"
        }
      ]
    },
    {
      "cell_type": "markdown",
      "metadata": {
        "id": "2YU-qgWnJdCe",
        "colab_type": "text"
      },
      "source": [
        "As written before, the MMD function is differentiable and therefore can be used to train the model."
      ]
    },
    {
      "cell_type": "code",
      "metadata": {
        "id": "1RrwnLMHfqsl",
        "colab_type": "code",
        "colab": {
          "base_uri": "https://localhost:8080/",
          "height": 1000
        },
        "outputId": "3fc8d53e-120c-4b9b-92ec-eea97c6f17d5"
      },
      "source": [
        "def get_MMD_norm(errors, sigma=0.1): # sigma is the standard deviation of our target distribution, it keeps updating to smaller value during training\n",
        "  x2 = np.random.normal(0, sigma, 100)\n",
        "  loss = MMD1d(errors, x2)\n",
        "  return loss\n",
        "\n",
        "def loss(model, x, y, sigma=0.1):\n",
        "  y_ = model(x) # y_.shape is (batch_size, 3) for Iris dataset\n",
        "  losses = []\n",
        "  loss_object = tf.keras.losses.SparseCategoricalCrossentropy(from_logits=True)\n",
        "  for i in range(y.shape[0]):\n",
        "    loss = loss_object(y_true=y[i], y_pred=y_[i])\n",
        "    losses.append(loss)\n",
        "  loss = get_MMD_norm(losses)\n",
        "  return tf.convert_to_tensor(loss, dtype=np.float32)\n",
        "\n",
        "def grad(model, inputs, targets, sigma=0.1):\n",
        "  with tf.GradientTape() as tape:\n",
        "    tape.watch(model.trainable_variables)\n",
        "    loss_value = loss(model, inputs, targets, sigma=0.1)\n",
        "  return loss_value, tape.gradient(loss_value, model.trainable_variables)\n",
        "\n",
        "loss_value, grads = grad(model, features, labels)\n",
        "print(\"loss_value:\",loss_value)\n",
        "print(\"type(loss_value):\", type(loss_value))\n",
        "print(\"\\ngrads:\", grads)"
      ],
      "execution_count": 4,
      "outputs": [
        {
          "output_type": "stream",
          "text": [
            "W0627 19:34:12.521479 140572835215232 deprecation.py:323] From /usr/local/lib/python3.6/dist-packages/tensorflow/python/ops/math_grad.py:1205: add_dispatch_support.<locals>.wrapper (from tensorflow.python.ops.array_ops) is deprecated and will be removed in a future version.\n",
            "Instructions for updating:\n",
            "Use tf.where in 2.0, which has the same broadcast rule as np.where\n"
          ],
          "name": "stderr"
        },
        {
          "output_type": "stream",
          "text": [
            "loss_value: tf.Tensor(5.2018685, shape=(), dtype=float32)\n",
            "type(loss_value): <class 'tensorflow.python.framework.ops.EagerTensor'>\n",
            "\n",
            "grads: [<tf.Tensor: id=3407, shape=(4, 10), dtype=float32, numpy=\n",
            "array([[ 0.0000000e+00, -5.5058842e+00, -2.2550030e+00,  9.0526266e+00,\n",
            "         0.0000000e+00,  6.7714036e-02,  6.0171599e+00,  0.0000000e+00,\n",
            "        -5.4114860e-01,  1.7458668e+01],\n",
            "       [ 0.0000000e+00, -2.4942534e+00, -1.2337697e+00,  4.0624032e+00,\n",
            "         0.0000000e+00,  4.4814423e-02,  2.7173367e+00,  0.0000000e+00,\n",
            "        -1.1339052e-01,  7.5628257e+00],\n",
            "       [ 0.0000000e+00, -4.3045316e+00, -8.3117121e-01,  7.0900888e+00,\n",
            "         0.0000000e+00,  1.5052046e-02,  4.5160708e+00,  0.0000000e+00,\n",
            "        -1.3855304e+00,  1.4965874e+01],\n",
            "       [ 0.0000000e+00, -1.4712715e+00, -1.7763006e-02,  2.3849266e+00,\n",
            "         0.0000000e+00,  2.4014930e-03,  1.4336034e+00,  0.0000000e+00,\n",
            "        -8.1996495e-01,  5.4340229e+00]], dtype=float32)>, <tf.Tensor: id=3406, shape=(10,), dtype=float32, numpy=\n",
            "array([ 0.        , -0.8687205 , -0.45902598,  1.4293005 ,  0.        ,\n",
            "        0.01200747,  0.9747255 ,  0.        ,  0.033932  ,  2.6114016 ],\n",
            "      dtype=float32)>, <tf.Tensor: id=3404, shape=(10, 10), dtype=float32, numpy=\n",
            "array([[ 0.0000000e+00,  0.0000000e+00,  0.0000000e+00,  0.0000000e+00,\n",
            "         0.0000000e+00,  0.0000000e+00,  0.0000000e+00,  0.0000000e+00,\n",
            "         0.0000000e+00,  0.0000000e+00],\n",
            "       [ 0.0000000e+00, -7.3247848e+00, -3.6619189e+00,  0.0000000e+00,\n",
            "        -6.2134784e-02,  2.8569529e+00,  4.8991089e+00, -3.9645166e+00,\n",
            "         0.0000000e+00,  1.2692349e+00],\n",
            "       [ 0.0000000e+00, -1.2398630e+01, -5.8522058e+00,  0.0000000e+00,\n",
            "        -1.8208835e-01,  4.9880157e+00,  8.4337740e+00, -7.1111503e+00,\n",
            "         0.0000000e+00,  1.6930348e+00],\n",
            "       [ 0.0000000e+00, -5.5641470e+00, -2.9955449e+00,  0.0000000e+00,\n",
            "         2.4909323e-02,  2.1359324e+00,  3.7197106e+00, -2.8737488e+00,\n",
            "         0.0000000e+00,  1.1980119e+00],\n",
            "       [ 0.0000000e+00,  0.0000000e+00,  0.0000000e+00,  0.0000000e+00,\n",
            "         0.0000000e+00,  0.0000000e+00,  0.0000000e+00,  0.0000000e+00,\n",
            "         0.0000000e+00,  0.0000000e+00],\n",
            "       [ 0.0000000e+00,  0.0000000e+00,  6.2132213e-04,  0.0000000e+00,\n",
            "        -6.9626421e-04, -7.1792770e-04, -1.1650082e-03,  1.1008546e-03,\n",
            "         0.0000000e+00, -3.0148611e-05],\n",
            "       [ 0.0000000e+00, -2.3676138e+01, -1.0960483e+01,  0.0000000e+00,\n",
            "        -4.2000243e-01,  9.5701456e+00,  1.6122072e+01, -1.3737353e+01,\n",
            "         0.0000000e+00,  2.9896150e+00],\n",
            "       [ 0.0000000e+00,  0.0000000e+00,  0.0000000e+00,  0.0000000e+00,\n",
            "         0.0000000e+00,  0.0000000e+00,  0.0000000e+00,  0.0000000e+00,\n",
            "         0.0000000e+00,  0.0000000e+00],\n",
            "       [ 0.0000000e+00, -1.1799553e+01, -5.5292459e+00,  0.0000000e+00,\n",
            "        -2.1677154e-01,  4.6957293e+00,  7.9439902e+00, -6.6874647e+00,\n",
            "         0.0000000e+00,  1.6131189e+00],\n",
            "       [ 0.0000000e+00, -7.4213967e+00, -3.0814397e+00,  0.0000000e+00,\n",
            "        -2.5779215e-01,  3.0512867e+00,  5.0489016e+00, -4.5245237e+00,\n",
            "         0.0000000e+00,  5.5400038e-01]], dtype=float32)>, <tf.Tensor: id=3402, shape=(10,), dtype=float32, numpy=\n",
            "array([ 0.        , -3.402647  , -1.4205782 ,  0.        , -0.09594112,\n",
            "        1.4290162 ,  2.359575  , -2.1268759 ,  0.        ,  0.23765817],\n",
            "      dtype=float32)>, <tf.Tensor: id=3400, shape=(10, 3), dtype=float32, numpy=\n",
            "array([[  0.        ,   0.        ,   0.        ],\n",
            "       [  3.6685488 ,  -0.9394084 ,  -2.7291403 ],\n",
            "       [  7.1550546 ,  -4.1144514 ,  -3.0406036 ],\n",
            "       [  0.        ,   0.        ,   0.        ],\n",
            "       [ -0.29841292,   0.15216616,   0.14624676],\n",
            "       [ 35.17912   , -17.394257  , -17.78486   ],\n",
            "       [ 29.995323  , -15.0804825 , -14.914841  ],\n",
            "       [ 10.772116  ,  -5.835259  ,  -4.9368563 ],\n",
            "       [  0.        ,   0.        ,   0.        ],\n",
            "       [ 11.810278  ,  -6.536353  ,  -5.273925  ]], dtype=float32)>, <tf.Tensor: id=3398, shape=(3,), dtype=float32, numpy=array([ 6.9418707, -3.8611045, -3.0807667], dtype=float32)>]\n"
          ],
          "name": "stdout"
        }
      ]
    },
    {
      "cell_type": "code",
      "metadata": {
        "id": "wX1HRP44bnY2",
        "colab_type": "code",
        "colab": {
          "base_uri": "https://localhost:8080/",
          "height": 52
        },
        "outputId": "daaa61ac-ef51-41a2-a4bd-102ba5053b3e"
      },
      "source": [
        "optimizer = tf.keras.optimizers.Adam(learning_rate=0.01)\n",
        "\n",
        "print(\"Step: {}, Initial Loss: {}\".format(optimizer.iterations.numpy(),\n",
        "                                          loss_value.numpy()))\n",
        "\n",
        "optimizer.apply_gradients(zip(grads, model.trainable_variables))\n",
        "\n",
        "print(\"Step: {},         Loss: {}\".format(optimizer.iterations.numpy(),\n",
        "                                          loss(model, features, labels).numpy()))"
      ],
      "execution_count": 5,
      "outputs": [
        {
          "output_type": "stream",
          "text": [
            "Step: 0, Initial Loss: 5.201868534088135\n",
            "Step: 1,         Loss: 1.9709848165512085\n"
          ],
          "name": "stdout"
        }
      ]
    },
    {
      "cell_type": "code",
      "metadata": {
        "colab_type": "code",
        "id": "AIgulGRUhpto",
        "colab": {
          "base_uri": "https://localhost:8080/",
          "height": 87
        },
        "outputId": "a7d624dc-b88e-44b0-d132-dc13522bfef5"
      },
      "source": [
        "## Note: Rerunning this cell uses the same model variables\n",
        "\n",
        "# keep results for plotting\n",
        "train_loss_results = []\n",
        "train_accuracy_results = []\n",
        "\n",
        "num_epochs = 200\n",
        "\n",
        "for epoch in range(num_epochs):\n",
        "  epoch_loss_avg = tf.keras.metrics.Mean()\n",
        "  epoch_accuracy = tf.keras.metrics.SparseCategoricalAccuracy()\n",
        "\n",
        "  # Training loop - using batches of 32\n",
        "  for x, y in train_dataset:\n",
        "    # Optimize the model\n",
        "    loss_value, grads = grad(model, x, y)\n",
        "    optimizer.apply_gradients(zip(grads, model.trainable_variables))\n",
        "\n",
        "    # Track progress\n",
        "    epoch_loss_avg(loss_value)  # add current batch loss\n",
        "    # compare predicted label to actual label\n",
        "    epoch_accuracy(y, model(x))\n",
        "\n",
        "  # end epoch\n",
        "  train_loss_results.append(epoch_loss_avg.result())\n",
        "  train_accuracy_results.append(epoch_accuracy.result())\n",
        "\n",
        "  if epoch % 50 == 0:\n",
        "    print(\"Epoch {:03d}: Loss: {:.3f}, Accuracy: {:.3%}\".format(epoch,\n",
        "                                                                epoch_loss_avg.result(),\n",
        "                                                                epoch_accuracy.result()))"
      ],
      "execution_count": 84,
      "outputs": [
        {
          "output_type": "stream",
          "text": [
            "Epoch 000: Loss: 2.565, Accuracy: 30.000%\n",
            "Epoch 050: Loss: 0.032, Accuracy: 96.667%\n",
            "Epoch 100: Loss: 0.008, Accuracy: 98.333%\n",
            "Epoch 150: Loss: 0.004, Accuracy: 98.333%\n"
          ],
          "name": "stdout"
        }
      ]
    },
    {
      "cell_type": "code",
      "metadata": {
        "colab_type": "code",
        "id": "agjvNd2iUGFn",
        "colab": {
          "base_uri": "https://localhost:8080/",
          "height": 557
        },
        "outputId": "3988bae7-3ef2-4719-f41f-1cd135ea88a0"
      },
      "source": [
        "fig, axes = plt.subplots(2, sharex=True, figsize=(12, 8))\n",
        "fig.suptitle('Training Metrics')\n",
        "\n",
        "axes[0].set_ylabel(\"Loss\", fontsize=14)\n",
        "axes[0].plot(train_loss_results)\n",
        "\n",
        "axes[1].set_ylabel(\"Accuracy\", fontsize=14)\n",
        "axes[1].set_xlabel(\"Epoch\", fontsize=14)\n",
        "axes[1].plot(train_accuracy_results)\n",
        "plt.show()"
      ],
      "execution_count": 62,
      "outputs": [
        {
          "output_type": "display_data",
          "data": {
            "image/png": "[encoded data removed]",
            "text/plain": [
              "<Figure size 864x576 with 2 Axes>"
            ]
          },
          "metadata": {
            "tags": []
          }
        }
      ]
    },
    {
      "cell_type": "markdown",
      "metadata": {
        "id": "4nAX834PJxWO",
        "colab_type": "text"
      },
      "source": [
        "To better leverage the design of loss function, I will use callbacks to detect the learning progress, once the loss stopped decreasing for 10 epochs, instead of early stopping, I will shrink the standard deviation of the target distribution by half. Now, let's write the callbacks for tracking loss history."
      ]
    },
    {
      "cell_type": "code",
      "metadata": {
        "id": "BvnzknJyaLXw",
        "colab_type": "code",
        "colab": {}
      },
      "source": [
        "def plot_bar(errors, num):\n",
        "    plt.hist(errors, bins = 20)\n",
        "    plt.xlabel(\"Prediction Error [MPG]\")\n",
        "    title = \"epoch:\" + str(num)\n",
        "    plt.title(title)\n",
        "    _ = plt.ylabel(\"Count\")\n",
        "    plt.show()\n",
        "    plt.savefig(title)"
      ],
      "execution_count": 0,
      "outputs": []
    },
    {
      "cell_type": "code",
      "metadata": {
        "id": "td9zzfAFVZ5C",
        "colab_type": "code",
        "colab": {
          "base_uri": "https://localhost:8080/",
          "height": 1000
        },
        "outputId": "111ea4c0-0c2d-4774-c9cd-022d04bc35f3"
      },
      "source": [
        "## Note: Rerunning this cell uses the same model variables\n",
        "\n",
        "# keep results for plotting\n",
        "train_loss_results = []\n",
        "train_accuracy_results = []\n",
        "\n",
        "num_epochs = 500\n",
        "patience_n = 25\n",
        "patience = patience_n\n",
        "sigma=0.1\n",
        "for epoch in range(num_epochs):\n",
        "  epoch_loss_avg = tf.keras.metrics.Mean()\n",
        "  epoch_accuracy = tf.keras.metrics.SparseCategoricalAccuracy()\n",
        "  if patience <= 0: \n",
        "    sigma/=2\n",
        "    patience = patience_n\n",
        "  # Training loop - using batches of 32\n",
        "  for x, y in train_dataset:\n",
        "    loss_value, grads = grad(model, x, y, sigma)\n",
        "    optimizer.apply_gradients(zip(grads, model.trainable_variables))\n",
        "\n",
        "    # Track progress\n",
        "    epoch_loss_avg(loss_value)  # add current batch loss\n",
        "    # compare predicted label to actual label\n",
        "    epoch_accuracy(y, model(x))\n",
        "\n",
        "  # end epoch\n",
        "  train_loss_results.append(epoch_loss_avg.result())\n",
        "  train_accuracy_results.append(epoch_accuracy.result())\n",
        "  \n",
        "  if epoch>1 and train_loss_results[-1].numpy() > train_loss_results[-2].numpy():\n",
        "    patience -=1\n",
        "\n",
        "  if epoch % 50 == 0:\n",
        "    print(\"sigma:\", sigma)\n",
        "    print(\"Epoch {:03d}: Loss: {:.3f}, Accuracy: {:.3%}\".format(epoch,\n",
        "                                                                epoch_loss_avg.result(),\n",
        "                                                                epoch_accuracy.result()))\n",
        "    plot_bar(train_loss_results[-40:], epoch)"
      ],
      "execution_count": 7,
      "outputs": [
        {
          "output_type": "stream",
          "text": [
            "sigma: 0.1\n",
            "Epoch 000: Loss: 1.134, Accuracy: 53.333%\n"
          ],
          "name": "stdout"
        },
        {
          "output_type": "display_data",
          "data": {
            "image/png": "[encoded data removed]",
            "text/plain": [
              "<Figure size 432x288 with 1 Axes>"
            ]
          },
          "metadata": {
            "tags": []
          }
        },
        {
          "output_type": "stream",
          "text": [
            "sigma: 0.1\n",
            "Epoch 050: Loss: 0.019, Accuracy: 97.500%\n"
          ],
          "name": "stdout"
        },
        {
          "output_type": "display_data",
          "data": {
            "image/png": "[encoded data removed]",
            "text/plain": [
              "<Figure size 432x288 with 1 Axes>"
            ]
          },
          "metadata": {
            "tags": []
          }
        },
        {
          "output_type": "stream",
          "text": [
            "sigma: 0.1\n",
            "Epoch 100: Loss: 0.008, Accuracy: 99.167%\n"
          ],
          "name": "stdout"
        },
        {
          "output_type": "display_data",
          "data": {
            "image/png": "[encoded data removed]",
            "text/plain": [
              "<Figure size 432x288 with 1 Axes>"
            ]
          },
          "metadata": {
            "tags": []
          }
        },
        {
          "output_type": "stream",
          "text": [
            "sigma: 0.1\n",
            "Epoch 150: Loss: 0.006, Accuracy: 99.167%\n"
          ],
          "name": "stdout"
        },
        {
          "output_type": "display_data",
          "data": {
            "image/png": "[encoded data removed]",
            "text/plain": [
              "<Figure size 432x288 with 1 Axes>"
            ]
          },
          "metadata": {
            "tags": []
          }
        },
        {
          "output_type": "stream",
          "text": [
            "sigma: 0.05\n",
            "Epoch 200: Loss: 0.004, Accuracy: 99.167%\n"
          ],
          "name": "stdout"
        },
        {
          "output_type": "display_data",
          "data": {
            "image/png": "[encoded data removed]",
            "text/plain": [
              "<Figure size 432x288 with 1 Axes>"
            ]
          },
          "metadata": {
            "tags": []
          }
        },
        {
          "output_type": "stream",
          "text": [
            "sigma: 0.025\n",
            "Epoch 250: Loss: 0.003, Accuracy: 98.333%\n"
          ],
          "name": "stdout"
        },
        {
          "output_type": "display_data",
          "data": {
            "image/png": "[encoded data removed]",
            "text/plain": [
              "<Figure size 432x288 with 1 Axes>"
            ]
          },
          "metadata": {
            "tags": []
          }
        },
        {
          "output_type": "stream",
          "text": [
            "sigma: 0.0125\n",
            "Epoch 300: Loss: 0.082, Accuracy: 70.833%\n"
          ],
          "name": "stdout"
        },
        {
          "output_type": "display_data",
          "data": {
            "image/png": "[encoded data removed]",
            "text/plain": [
              "<Figure size 432x288 with 1 Axes>"
            ]
          },
          "metadata": {
            "tags": []
          }
        },
        {
          "output_type": "stream",
          "text": [
            "sigma: 0.00625\n",
            "Epoch 350: Loss: 0.039, Accuracy: 95.833%\n"
          ],
          "name": "stdout"
        },
        {
          "output_type": "display_data",
          "data": {
            "image/png": "[encoded data removed]",
            "text/plain": [
              "<Figure size 432x288 with 1 Axes>"
            ]
          },
          "metadata": {
            "tags": []
          }
        },
        {
          "output_type": "stream",
          "text": [
            "sigma: 0.00625\n",
            "Epoch 400: Loss: 0.029, Accuracy: 96.667%\n"
          ],
          "name": "stdout"
        },
        {
          "output_type": "display_data",
          "data": {
            "image/png": "[encoded data removed]",
            "text/plain": [
              "<Figure size 432x288 with 1 Axes>"
            ]
          },
          "metadata": {
            "tags": []
          }
        },
        {
          "output_type": "stream",
          "text": [
            "sigma: 0.003125\n",
            "Epoch 450: Loss: 0.022, Accuracy: 98.333%\n"
          ],
          "name": "stdout"
        },
        {
          "output_type": "display_data",
          "data": {
            "image/png": "[encoded data removed]",
            "text/plain": [
              "<Figure size 432x288 with 1 Axes>"
            ]
          },
          "metadata": {
            "tags": []
          }
        },
        {
          "output_type": "display_data",
          "data": {
            "text/plain": [
              "<Figure size 432x288 with 0 Axes>"
            ]
          },
          "metadata": {
            "tags": []
          }
        }
      ]
    },
    {
      "cell_type": "code",
      "metadata": {
        "id": "oP95BdUcXd1y",
        "colab_type": "code",
        "colab": {
          "base_uri": "https://localhost:8080/",
          "height": 34
        },
        "outputId": "5c4cbe87-e9d5-4fcb-d096-80e965a78140"
      },
      "source": [
        "fig, axes = plt.subplots(2, sharex=True, figsize=(12, 8))\n",
        "fig.suptitle('Training Metrics')\n",
        "\n",
        "axes[0].set_ylabel(\"Loss\", fontsize=14)\n",
        "axes[0].plot(train_loss_results)\n",
        "\n",
        "axes[1].set_ylabel(\"Accuracy\", fontsize=14)\n",
        "axes[1].set_xlabel(\"Epoch\", fontsize=14)\n",
        "axes[1].plot(train_accuracy_results)\n",
        "plt.show()"
      ],
      "execution_count": 71,
      "outputs": [
        {
          "output_type": "execute_result",
          "data": {
            "text/plain": [
              "1.5"
            ]
          },
          "metadata": {
            "tags": []
          },
          "execution_count": 71
        }
      ]
    },
    {
      "cell_type": "code",
      "metadata": {
        "colab_type": "code",
        "id": "Ps3_9dJ3Lodk",
        "colab": {
          "base_uri": "https://localhost:8080/",
          "height": 72
        },
        "outputId": "ba7f89de-b7e0-4a6a-d8c0-417dbcfcf43c"
      },
      "source": [
        "test_url = \"https://storage.googleapis.com/download.tensorflow.org/data/iris_test.csv\"\n",
        "\n",
        "test_fp = tf.keras.utils.get_file(fname=os.path.basename(test_url),\n",
        "                                  origin=test_url)"
      ],
      "execution_count": 37,
      "outputs": [
        {
          "output_type": "stream",
          "text": [
            "Downloading data from https://storage.googleapis.com/download.tensorflow.org/data/iris_test.csv\n",
            "\r8192/573 [============================================================================================================================================================================================================================================================================================================================================================================================================================================] - 0s 0us/step\n"
          ],
          "name": "stdout"
        }
      ]
    },
    {
      "cell_type": "code",
      "metadata": {
        "colab_type": "code",
        "id": "SRMWCu30bnxH",
        "colab": {}
      },
      "source": [
        "test_dataset = tf.data.experimental.make_csv_dataset(\n",
        "    test_fp,\n",
        "    batch_size,\n",
        "    column_names=column_names,\n",
        "    label_name='species',\n",
        "    num_epochs=1,\n",
        "    shuffle=False)\n",
        "\n",
        "test_dataset = test_dataset.map(pack_features_vector)"
      ],
      "execution_count": 0,
      "outputs": []
    },
    {
      "cell_type": "code",
      "metadata": {
        "colab_type": "code",
        "id": "Tw03-MK1cYId",
        "colab": {}
      },
      "source": [
        "test_accuracy = tf.keras.metrics.Accuracy()\n",
        "\n",
        "for (x, y) in test_dataset:\n",
        "  logits = model(x)\n",
        "  prediction = tf.argmax(logits, axis=1, output_type=tf.int32)\n",
        "  test_accuracy(prediction, y)\n",
        "\n",
        "print(\"Test set accuracy: {:.3%}\".format(test_accuracy.result()))"
      ],
      "execution_count": 0,
      "outputs": []
    },
    {
      "cell_type": "code",
      "metadata": {
        "colab_type": "code",
        "id": "uNwt2eMeOane",
        "colab": {}
      },
      "source": [
        "tf.stack([y,prediction],axis=1)"
      ],
      "execution_count": 0,
      "outputs": []
    },
    {
      "cell_type": "code",
      "metadata": {
        "colab_type": "code",
        "id": "kesTS5Lzv-M2",
        "colab": {}
      },
      "source": [
        "predict_dataset = tf.convert_to_tensor([\n",
        "    [5.1, 3.3, 1.7, 0.5,],\n",
        "    [5.9, 3.0, 4.2, 1.5,],\n",
        "    [6.9, 3.1, 5.4, 2.1]\n",
        "])\n",
        "\n",
        "predictions = model(predict_dataset)\n",
        "\n",
        "for i, logits in enumerate(predictions):\n",
        "  class_idx = tf.argmax(logits).numpy()\n",
        "  p = tf.nn.softmax(logits)[class_idx]\n",
        "  name = class_names[class_idx]\n",
        "  print(\"Example {} prediction: {} ({:4.1f}%)\".format(i, name, 100*p))"
      ],
      "execution_count": 0,
      "outputs": []
    },
    {
      "cell_type": "code",
      "metadata": {
        "colab_type": "code",
        "id": "JliO3dfQRcbg",
        "colab": {}
      },
      "source": [
        ""
      ],
      "execution_count": 0,
      "outputs": []
    }
  ]
}