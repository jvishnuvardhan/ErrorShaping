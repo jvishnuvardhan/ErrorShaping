{
  "nbformat": 4,
  "nbformat_minor": 0,
  "metadata": {
    "colab": {
      "name": "tf2_flower.ipynb",
      "version": "0.3.2",
      "provenance": [],
      "collapsed_sections": []
    },
    "language_info": {
      "codemirror_mode": {
        "name": "ipython",
        "version": 3
      },
      "file_extension": ".py",
      "mimetype": "text/x-python",
      "name": "python",
      "nbconvert_exporter": "python",
      "pygments_lexer": "ipython3",
      "version": "3.5.2"
    },
    "kernelspec": {
      "name": "python3",
      "display_name": "Python 3"
    }
  },
  "cells": [
    {
      "cell_type": "code",
      "metadata": {
        "colab_type": "code",
        "id": "jElLULrDhQZR",
        "colab": {
          "base_uri": "https://localhost:8080/",
          "height": 52
        },
        "outputId": "ca323548-6353-4469-de00-9cee3d3bdb49"
      },
      "source": [
        "from __future__ import absolute_import, division, print_function, unicode_literals\n",
        "import os\n",
        "import matplotlib.pyplot as plt\n",
        "!pip install -q tensorflow==2.0.0-beta1\n",
        "import tensorflow as tf\n",
        "import numpy as np\n",
        "print(\"TensorFlow version: {}\".format(tf.__version__))\n",
        "print(\"Eager execution: {}\".format(tf.executing_eagerly()))"
      ],
      "execution_count": 55,
      "outputs": [
        {
          "output_type": "stream",
          "text": [
            "TensorFlow version: 2.0.0-beta1\n",
            "Eager execution: True\n"
          ],
          "name": "stdout"
        }
      ]
    },
    {
      "cell_type": "code",
      "metadata": {
        "colab_type": "code",
        "id": "9Edhevw7exl6",
        "colab": {
          "base_uri": "https://localhost:8080/",
          "height": 52
        },
        "outputId": "5b59e62f-d8c3-4317-d5a5-1f0fa27e4f3b"
      },
      "source": [
        "train_dataset_url = \"https://storage.googleapis.com/download.tensorflow.org/data/iris_training.csv\"\n",
        "train_dataset_fp = tf.keras.utils.get_file(fname=os.path.basename(train_dataset_url),\n",
        "                                           origin=train_dataset_url)\n",
        "#print(\"Local copy of the dataset file: {}\".format(train_dataset_fp))\n",
        "#!head -n5 {train_dataset_fp}\n",
        "# column order in CSV file\n",
        "column_names = ['sepal_length', 'sepal_width', 'petal_length', 'petal_width', 'species']\n",
        "\n",
        "feature_names = column_names[:-1]\n",
        "label_name = column_names[-1]\n",
        "\n",
        "#print(\"Features: {}\".format(feature_names))\n",
        "#print(\"Label: {}\".format(label_name))\n",
        "class_names = ['Iris setosa', 'Iris versicolor', 'Iris virginica']\n",
        "batch_size = 32\n",
        "\n",
        "train_dataset = tf.data.experimental.make_csv_dataset(\n",
        "    train_dataset_fp,\n",
        "    batch_size,\n",
        "    column_names=column_names,\n",
        "    label_name=label_name,\n",
        "    num_epochs=1)\n",
        "\n",
        "features, labels = next(iter(train_dataset))\n",
        "\"\"\"\n",
        "print(features)\n",
        "plt.scatter(features['petal_length'],\n",
        "            features['sepal_length'],\n",
        "            c=labels,\n",
        "            cmap='viridis')\n",
        "\n",
        "plt.xlabel(\"Petal length\")\n",
        "plt.ylabel(\"Sepal length\")\n",
        "plt.show()\n",
        "\"\"\"\n",
        "def pack_features_vector(features, labels):\n",
        "  \"\"\"Pack the features into a single array.\"\"\"\n",
        "  features = tf.stack(list(features.values()), axis=1)\n",
        "  return features, labels\n",
        "train_dataset = train_dataset.map(pack_features_vector)\n",
        "features, labels = next(iter(train_dataset))\n",
        "#print(features[:5])\n",
        "model = tf.keras.Sequential([\n",
        "  tf.keras.layers.Dense(10, activation=tf.nn.relu, input_shape=(4,)),  # input shape required\n",
        "  tf.keras.layers.Dense(10, activation=tf.nn.relu),\n",
        "  tf.keras.layers.Dense(3)\n",
        "])\n",
        "predictions = model(features)\n",
        "#predictions[:5]\n",
        "tf.nn.softmax(predictions[:5])\n",
        "print(\"Prediction: {}\".format(tf.argmax(predictions, axis=1)))\n",
        "print(\"    Labels: {}\".format(labels))"
      ],
      "execution_count": 56,
      "outputs": [
        {
          "output_type": "stream",
          "text": [
            "Prediction: [0 1 0 1 0 1 0 0 1 1 0 1 0 1 0 0 1 1 0 1 0 0 1 1 1 1 1 0 1 0 1 0]\n",
            "    Labels: [0 1 0 2 0 1 0 0 2 2 0 2 0 2 0 0 1 2 0 1 0 0 2 1 2 2 2 0 2 0 1 0]\n"
          ],
          "name": "stdout"
        }
      ]
    },
    {
      "cell_type": "markdown",
      "metadata": {
        "id": "u681mWic2His",
        "colab_type": "text"
      },
      "source": [
        "Our design of loss function is the distance between the distribution of errors and the continuous target distribution which can be Gaussian or Delta. Given that Delta is meaningless beyound integral, andt its integral, which is a step function, is dicontinuous. Let's consider Normal distribution. Normal distribution is much nicer. Actually, its density is infinitely differetiable with a very nice form:\n",
        "\n",
        "![alt text](http://i64.tinypic.com/2461h5y.png)    where ![alt text](http://i66.tinypic.com/j6lruh.jpg) is the density function for ![alt text](http://i68.tinypic.com/k1yp9i.png)\n",
        "\n",
        "-------------------------------------------------------------------------------------------------------\n",
        "Let's give up on calculating the differenation of Normal pdf.\n",
        "\n",
        "\n",
        "Thanks for [Shangkun](https://github.com/polossk)'s help, I will use kernel method here, more specifically, MMD ([Maximum Mean Divergence](https://stats.stackexchange.com/questions/276497/maximum-mean-discrepancy-distance-distribution)), to calculate the similarity between the distribution of the sample, and the target distribution. This method uses large size of samples to approximiate the target distribution. Compared to methods such as fitting parametric distribution, curve fitting,  using MMD here has several advantage:\n",
        "\n",
        "\n",
        "*   Allows samples of different size\n",
        "*   differentiable\n",
        "*   easy to calculate\n",
        "*   no assumption for distribution or polynomial curve\n",
        "*   no hyper-parameter, flexible for different batch size and good for reproducibility\n",
        "*   avoid dealing with overfitting\n",
        "\n",
        "The specific kernel function I used here is:\n",
        "\n",
        "![alt text](http://i65.tinypic.com/25ji4w7.png)\n",
        "\n",
        "\n",
        "To illustate this method makes sense, an example is show below, you can see the distributions of `b` and `c` are more similar than those of `a` and `c`, correspondingly, you can see the MMD of  `b` and `c` is smaller than that of `a` and `c`."
      ]
    },
    {
      "cell_type": "code",
      "metadata": {
        "id": "FrV1Ypqf7KuR",
        "colab_type": "code",
        "colab": {
          "base_uri": "https://localhost:8080/",
          "height": 323
        },
        "outputId": "976583e1-6e21-480a-e604-d7f2ede3e1e8"
      },
      "source": [
        "from matplotlib.patches import Rectangle\n",
        "\n",
        "def MMD1d(x1, x2): # a and b are lists of aribiturary lengths\n",
        "  dis = sum([x**2 for x in x1])/len(x1) - sum([x**2 for x in x2])/len(x2)\n",
        "  return dis**2\n",
        "\n",
        "a, b, c = [-40, -40, -35, 40, 35, 40], [-10, -5, -15, -20,2, 5, 10], [-1,-6,-4,-1, 0, 2, 4, 1, 3, 2, 0, 8]\n",
        "print(f'a:{a} b:{b} c:{c}', '\\nMMD1d(a, c):%.4f.   MMD1d(b, c):%8.4f'%(MMD1d(a, c),MMD1d(b, c)))\n",
        "\n",
        "a_N, a_bins, a_patches = plt.hist(np.array(a), 30, ec=\"k\")\n",
        "b_N, b_bins, b_patches = plt.hist(np.array(b), 30, ec=\"k\")\n",
        "c_N, c_bins, c_patches = plt.hist(np.array(c), 30, ec=\"k\")\n",
        "cmap = plt.get_cmap('jet')\n",
        "for i in range(30):\n",
        "  a_patches[i].set_facecolor(cmap(0.25))\n",
        "for i in range(30):\n",
        "  b_patches[i].set_facecolor(cmap(0.4))\n",
        "for i in range(30):\n",
        "  c_patches[i].set_facecolor(cmap(0.8))\n",
        "handles = [Rectangle((0,0),1,1,color=c,ec=\"k\") for c in [cmap(0.25),cmap(0.4), cmap(0.8)]]\n",
        "lab= [\"a\",\"b\", \"c\"]\n",
        "plt.legend(handles, lab)\n",
        "plt.xlabel(\"x\", fontsize=16)  \n",
        "plt.ylabel(\"count\", fontsize=16)\n",
        "plt.show()"
      ],
      "execution_count": 57,
      "outputs": [
        {
          "output_type": "stream",
          "text": [
            "a:[-40, -40, -35, 40, 35, 40] b:[-10, -5, -15, -20, 2, 5, 10] c:[-1, -6, -4, -1, 0, 2, 4, 1, 3, 2, 0, 8] \n",
            "MMD1d(a, c):2138418.7778.   MMD1d(b, c):12747.4853\n"
          ],
          "name": "stdout"
        },
        {
          "output_type": "display_data",
          "data": {
            "image/png": "[encoded data removed]",
            "text/plain": [
              "<Figure size 432x288 with 1 Axes>"
            ]
          },
          "metadata": {
            "tags": []
          }
        }
      ]
    },
    {
      "cell_type": "markdown",
      "metadata": {
        "id": "W4tr7szgB1mZ",
        "colab_type": "text"
      },
      "source": [
        "The partial derivative of MMD w.r.t  ![alt text](http://i67.tinypic.com/v4wmfo.png) is:\n",
        "\n",
        "![alt text](http://i68.tinypic.com/2rnh4s3.png)\n",
        "\n",
        "Just for record, my original loss function is designed as below, the grads will return a list of 6 `None`s for 3 layers model. The reason is that the original loss function is not differentiable. "
      ]
    },
    {
      "cell_type": "code",
      "metadata": {
        "id": "BUgOlm5ZFatw",
        "colab_type": "code",
        "colab": {
          "base_uri": "https://localhost:8080/",
          "height": 143
        },
        "outputId": "b9a283b9-7b25-4358-c5d0-cf00d6a0abf2"
      },
      "source": [
        "import scipy.stats\n",
        "\n",
        "def get_distance_between_samples_and_distribution(errors, if_plot = 1, n_bins = 5):\n",
        "  def get_middle(x):\n",
        "    xMid = np.zeros(x.shape[0]//2)\n",
        "    for i in range(xMid.shape[0]):\n",
        "      xMid[i] = 0.5*(x[2*i]+x[2*i+1])\n",
        "    return xMid\n",
        "\n",
        "  bins, edges = np.histogram(errors, n_bins, normed=1)\n",
        "  left,right = edges[:-1],edges[1:]\n",
        "  X = np.array([left,right]).T.flatten()\n",
        "  Y = np.array([bins,bins]).T.flatten()\n",
        "  X_middle = get_middle(X)\n",
        "  Y_middle = get_middle(Y)\n",
        "  distance = []\n",
        "  for i in range(X_middle.shape[0]):\n",
        "    dis = np.square(scipy.stats.norm.pdf(X_middle[i])- Y_middle[i])\n",
        "    distance.append(dis)\n",
        "  distance2 = np.power(distance, 2)\n",
        "  \n",
        "  return sum(distance2)/len(distance2)\n",
        "\n",
        "loss_object = tf.keras.losses.SparseCategoricalCrossentropy(from_logits=True)\n",
        "def loss(model, x, y):\n",
        "  y_ = model(x)\n",
        "  losses = []\n",
        "  # y_.shape is (batch_size, 3)\n",
        "  for i in range(y.shape[0]):\n",
        "    loss = loss_object(y_true=y[i], y_pred=y_[i])\n",
        "    losses.append(loss)\n",
        "  dis = get_distance_between_samples_and_distribution(losses, if_plot = 0)\n",
        "  return tf.convert_to_tensor(dis, dtype=np.float32)\n",
        "\n",
        "def grad(model, inputs, targets):\n",
        "  with tf.GradientTape() as tape:\n",
        "    tape.watch(model.trainable_variables)\n",
        "    loss_value = loss(model, inputs, targets)\n",
        "  return loss_value, tape.gradient(loss_value, model.trainable_variables)\n",
        "\n",
        "loss_value, grads = grad(model, features, labels)\n",
        "print(\"loss_value:\",loss_value)\n",
        "print(\"type(loss_value):\", type(loss_value))\n",
        "print(\"\\ngrads:\", grads)"
      ],
      "execution_count": 58,
      "outputs": [
        {
          "output_type": "stream",
          "text": [
            "loss_value: tf.Tensor(0.0031982895, shape=(), dtype=float32)\n",
            "type(loss_value): <class 'tensorflow.python.framework.ops.EagerTensor'>\n",
            "\n",
            "grads: [None, None, None, None, None, None]\n"
          ],
          "name": "stdout"
        },
        {
          "output_type": "stream",
          "text": [
            "/usr/local/lib/python3.6/dist-packages/ipykernel_launcher.py:10: VisibleDeprecationWarning: Passing `normed=True` on non-uniform bins has always been broken, and computes neither the probability density function nor the probability mass function. The result is only correct if the bins are uniform, when density=True will produce the same result anyway. The argument will be removed in a future version of numpy.\n",
            "  # Remove the CWD from sys.path while we load stuff.\n"
          ],
          "name": "stderr"
        }
      ]
    },
    {
      "cell_type": "markdown",
      "metadata": {
        "id": "2YU-qgWnJdCe",
        "colab_type": "text"
      },
      "source": [
        "As written before, the MMD function is differentiable and therefore can be used to train the model."
      ]
    },
    {
      "cell_type": "code",
      "metadata": {
        "id": "1RrwnLMHfqsl",
        "colab_type": "code",
        "colab": {
          "base_uri": "https://localhost:8080/",
          "height": 1000
        },
        "outputId": "ff813354-9fb5-4690-c7eb-b626ea98e6d9"
      },
      "source": [
        "def get_MMD_norm(errors, sigma=0.1): # sigma is the standard deviation of our target distribution, it keeps updating to smaller value during training\n",
        "  x2 = np.random.normal(0, sigma, 100)\n",
        "  loss = MMD1d(errors, x2)\n",
        "  return loss\n",
        "\n",
        "def loss(model, x, y):\n",
        "  y_ = model(x) # y_.shape is (batch_size, 3) for Iris dataset\n",
        "  losses = []\n",
        "  loss_object = tf.keras.losses.SparseCategoricalCrossentropy(from_logits=True)\n",
        "  for i in range(y.shape[0]):\n",
        "    loss = loss_object(y_true=y[i], y_pred=y_[i])\n",
        "    losses.append(loss)\n",
        "  loss = get_MMD_norm(losses)\n",
        "  return tf.convert_to_tensor(loss, dtype=np.float32)\n",
        "\n",
        "def grad(model, inputs, targets):\n",
        "  with tf.GradientTape() as tape:\n",
        "    tape.watch(model.trainable_variables)\n",
        "    loss_value = loss(model, inputs, targets)\n",
        "  return loss_value, tape.gradient(loss_value, model.trainable_variables)\n",
        "\n",
        "loss_value, grads = grad(model, features, labels)\n",
        "print(\"loss_value:\",loss_value)\n",
        "print(\"type(loss_value):\", type(loss_value))\n",
        "print(\"\\ngrads:\", grads)"
      ],
      "execution_count": 59,
      "outputs": [
        {
          "output_type": "stream",
          "text": [
            "loss_value: tf.Tensor(106.67751, shape=(), dtype=float32)\n",
            "type(loss_value): <class 'tensorflow.python.framework.ops.EagerTensor'>\n",
            "\n",
            "grads: [<tf.Tensor: id=5117591, shape=(4, 10), dtype=float32, numpy=\n",
            "array([[   0.       , -224.07385  ,  230.50374  ,  115.50677  ,\n",
            "           0.       ,  316.0283   ,  138.18106  ,  258.49985  ,\n",
            "        -341.2846   ,    2.937387 ],\n",
            "       [   0.       , -102.72963  ,  105.12328  ,   52.608864 ,\n",
            "           0.       ,  144.8313   ,   62.99159  ,  118.09052  ,\n",
            "        -156.2037   ,    0.7131056],\n",
            "       [   0.       , -183.04773  ,  190.17044  ,   95.37037  ,\n",
            "           0.       ,  258.53378  ,  113.09698  ,  212.4229   ,\n",
            "        -279.49216  ,    4.498368 ],\n",
            "       [   0.       ,  -65.19074  ,   67.96276  ,   34.075924 ,\n",
            "           0.       ,   92.12941  ,   43.447094 ,   75.80335  ,\n",
            "         -99.616974 ,    1.8641778]], dtype=float32)>, <tf.Tensor: id=5117590, shape=(10,), dtype=float32, numpy=\n",
            "array([  0.        , -32.721172  ,  33.490913  ,  16.754986  ,\n",
            "         0.        ,  46.131058  ,  20.309673  ,  37.617832  ,\n",
            "       -49.757378  ,   0.23584916], dtype=float32)>, <tf.Tensor: id=5117588, shape=(10, 10), dtype=float32, numpy=\n",
            "array([[ 0.0000000e+00,  0.0000000e+00,  0.0000000e+00,  0.0000000e+00,\n",
            "         0.0000000e+00,  0.0000000e+00,  0.0000000e+00,  0.0000000e+00,\n",
            "         0.0000000e+00,  0.0000000e+00],\n",
            "       [ 1.1829005e+02,  0.0000000e+00,  3.1812162e+01,  2.7948894e-02,\n",
            "        -5.9592686e+01,  0.0000000e+00,  1.7685044e+00,  0.0000000e+00,\n",
            "         0.0000000e+00,  0.0000000e+00],\n",
            "       [ 3.0671429e+02,  0.0000000e+00,  8.2629837e+01,  8.3108023e-02,\n",
            "        -1.5541805e+02,  0.0000000e+00,  5.2718105e+00,  0.0000000e+00,\n",
            "         0.0000000e+00,  0.0000000e+00],\n",
            "       [ 5.3322033e+01,  0.0000000e+00,  1.4213736e+01,  0.0000000e+00,\n",
            "        -2.6073483e+01,  0.0000000e+00,  5.1137572e-04,  0.0000000e+00,\n",
            "         0.0000000e+00,  0.0000000e+00],\n",
            "       [ 0.0000000e+00,  0.0000000e+00,  0.0000000e+00,  0.0000000e+00,\n",
            "         0.0000000e+00,  0.0000000e+00,  0.0000000e+00,  0.0000000e+00,\n",
            "         0.0000000e+00,  0.0000000e+00],\n",
            "       [ 3.9061566e+02,  0.0000000e+00,  1.0461395e+02,  3.6978506e-02,\n",
            "        -1.9406421e+02,  0.0000000e+00,  2.7593975e+00,  0.0000000e+00,\n",
            "         0.0000000e+00,  0.0000000e+00],\n",
            "       [ 1.3608975e+01,  0.0000000e+00,  3.6345675e+00,  0.0000000e+00,\n",
            "        -6.6976724e+00,  0.0000000e+00,  0.0000000e+00,  0.0000000e+00,\n",
            "         0.0000000e+00,  0.0000000e+00],\n",
            "       [ 3.9012961e+02,  0.0000000e+00,  1.0466981e+02,  5.7222206e-02,\n",
            "        -1.9498485e+02,  0.0000000e+00,  3.9318209e+00,  0.0000000e+00,\n",
            "         0.0000000e+00,  0.0000000e+00],\n",
            "       [ 2.3003476e+02,  0.0000000e+00,  6.2097919e+01,  7.4612767e-02,\n",
            "        -1.1734893e+02,  0.0000000e+00,  4.6943364e+00,  0.0000000e+00,\n",
            "         0.0000000e+00,  0.0000000e+00],\n",
            "       [ 3.6627521e+02,  0.0000000e+00,  9.8179497e+01,  4.4575244e-02,\n",
            "        -1.8249843e+02,  0.0000000e+00,  3.1652334e+00,  0.0000000e+00,\n",
            "         0.0000000e+00,  0.0000000e+00]], dtype=float32)>, <tf.Tensor: id=5117586, shape=(10,), dtype=float32, numpy=\n",
            "array([ 7.6144951e+01,  0.0000000e+00,  2.0516069e+01,  1.6749872e-02,\n",
            "       -3.8598915e+01,  0.0000000e+00,  1.3493444e+00,  0.0000000e+00,\n",
            "        0.0000000e+00,  0.0000000e+00], dtype=float32)>, <tf.Tensor: id=5117584, shape=(10, 3), dtype=float32, numpy=\n",
            "array([[ 7.5863091e+01,  4.1302313e+02, -4.8888620e+02],\n",
            "       [ 0.0000000e+00,  0.0000000e+00,  0.0000000e+00],\n",
            "       [ 5.6296379e+01,  3.1066107e+02, -3.6695749e+02],\n",
            "       [-1.1845173e-03,  9.4325439e-04,  2.4126255e-04],\n",
            "       [ 5.6754059e+01,  3.3155347e+02, -3.8830750e+02],\n",
            "       [ 0.0000000e+00,  0.0000000e+00,  0.0000000e+00],\n",
            "       [-5.1024950e-01,  4.0809643e-01,  1.0215306e-01],\n",
            "       [ 0.0000000e+00,  0.0000000e+00,  0.0000000e+00],\n",
            "       [ 0.0000000e+00,  0.0000000e+00,  0.0000000e+00],\n",
            "       [ 0.0000000e+00,  0.0000000e+00,  0.0000000e+00]], dtype=float32)>, <tf.Tensor: id=5117582, shape=(3,), dtype=float32, numpy=array([ 10.873512,  65.698555, -76.57207 ], dtype=float32)>]\n"
          ],
          "name": "stdout"
        }
      ]
    },
    {
      "cell_type": "code",
      "metadata": {
        "id": "wX1HRP44bnY2",
        "colab_type": "code",
        "colab": {
          "base_uri": "https://localhost:8080/",
          "height": 52
        },
        "outputId": "59c45a33-07be-4cfd-c661-f1665718b21b"
      },
      "source": [
        "optimizer = tf.keras.optimizers.Adam(learning_rate=0.01)\n",
        "\n",
        "print(\"Step: {}, Initial Loss: {}\".format(optimizer.iterations.numpy(),\n",
        "                                          loss_value.numpy()))\n",
        "\n",
        "optimizer.apply_gradients(zip(grads, model.trainable_variables))\n",
        "\n",
        "print(\"Step: {},         Loss: {}\".format(optimizer.iterations.numpy(),\n",
        "                                          loss(model, features, labels).numpy()))"
      ],
      "execution_count": 60,
      "outputs": [
        {
          "output_type": "stream",
          "text": [
            "Step: 0, Initial Loss: 106.6775131225586\n",
            "Step: 1,         Loss: 40.6317024230957\n"
          ],
          "name": "stdout"
        }
      ]
    },
    {
      "cell_type": "code",
      "metadata": {
        "colab_type": "code",
        "id": "AIgulGRUhpto",
        "colab": {
          "base_uri": "https://localhost:8080/",
          "height": 87
        },
        "outputId": "d155178b-5be5-45c2-c392-c23acd22c624"
      },
      "source": [
        "## Note: Rerunning this cell uses the same model variables\n",
        "\n",
        "# keep results for plotting\n",
        "train_loss_results = []\n",
        "train_accuracy_results = []\n",
        "\n",
        "num_epochs = 200\n",
        "\n",
        "for epoch in range(num_epochs):\n",
        "  epoch_loss_avg = tf.keras.metrics.Mean()\n",
        "  epoch_accuracy = tf.keras.metrics.SparseCategoricalAccuracy()\n",
        "\n",
        "  # Training loop - using batches of 32\n",
        "  for x, y in train_dataset:\n",
        "    # Optimize the model\n",
        "    loss_value, grads = grad(model, x, y)\n",
        "    optimizer.apply_gradients(zip(grads, model.trainable_variables))\n",
        "\n",
        "    # Track progress\n",
        "    epoch_loss_avg(loss_value)  # add current batch loss\n",
        "    # compare predicted label to actual label\n",
        "    epoch_accuracy(y, model(x))\n",
        "\n",
        "  # end epoch\n",
        "  train_loss_results.append(epoch_loss_avg.result())\n",
        "  train_accuracy_results.append(epoch_accuracy.result())\n",
        "\n",
        "  if epoch % 50 == 0:\n",
        "    print(\"Epoch {:03d}: Loss: {:.3f}, Accuracy: {:.3%}\".format(epoch,\n",
        "                                                                epoch_loss_avg.result(),\n",
        "                                                                epoch_accuracy.result()))"
      ],
      "execution_count": 61,
      "outputs": [
        {
          "output_type": "stream",
          "text": [
            "Epoch 000: Loss: 22.260, Accuracy: 35.000%\n",
            "Epoch 050: Loss: 0.128, Accuracy: 89.167%\n",
            "Epoch 100: Loss: 0.038, Accuracy: 99.167%\n",
            "Epoch 150: Loss: 0.017, Accuracy: 99.167%\n"
          ],
          "name": "stdout"
        }
      ]
    },
    {
      "cell_type": "code",
      "metadata": {
        "colab_type": "code",
        "id": "agjvNd2iUGFn",
        "colab": {
          "base_uri": "https://localhost:8080/",
          "height": 557
        },
        "outputId": "3988bae7-3ef2-4719-f41f-1cd135ea88a0"
      },
      "source": [
        "fig, axes = plt.subplots(2, sharex=True, figsize=(12, 8))\n",
        "fig.suptitle('Training Metrics')\n",
        "\n",
        "axes[0].set_ylabel(\"Loss\", fontsize=14)\n",
        "axes[0].plot(train_loss_results)\n",
        "\n",
        "axes[1].set_ylabel(\"Accuracy\", fontsize=14)\n",
        "axes[1].set_xlabel(\"Epoch\", fontsize=14)\n",
        "axes[1].plot(train_accuracy_results)\n",
        "plt.show()"
      ],
      "execution_count": 62,
      "outputs": [
        {
          "output_type": "display_data",
          "data": {
            "image/png": "[encoded data removed]",
            "text/plain": [
              "<Figure size 864x576 with 2 Axes>"
            ]
          },
          "metadata": {
            "tags": []
          }
        }
      ]
    },
    {
      "cell_type": "markdown",
      "metadata": {
        "id": "4nAX834PJxWO",
        "colab_type": "text"
      },
      "source": [
        "To better leverage the design of loss function, I will use callbacks to detect the learning progress, once the loss stopped decreasing for 10 epochs, instead of early stopping, I will shrink the standard deviation of the target distribution by half. Now, let's write the callbacks for tracking loss history."
      ]
    },
    {
      "cell_type": "code",
      "metadata": {
        "colab_type": "code",
        "id": "Ps3_9dJ3Lodk",
        "colab": {
          "base_uri": "https://localhost:8080/",
          "height": 72
        },
        "outputId": "ba7f89de-b7e0-4a6a-d8c0-417dbcfcf43c"
      },
      "source": [
        "test_url = \"https://storage.googleapis.com/download.tensorflow.org/data/iris_test.csv\"\n",
        "\n",
        "test_fp = tf.keras.utils.get_file(fname=os.path.basename(test_url),\n",
        "                                  origin=test_url)"
      ],
      "execution_count": 37,
      "outputs": [
        {
          "output_type": "stream",
          "text": [
            "Downloading data from https://storage.googleapis.com/download.tensorflow.org/data/iris_test.csv\n",
            "\r8192/573 [============================================================================================================================================================================================================================================================================================================================================================================================================================================] - 0s 0us/step\n"
          ],
          "name": "stdout"
        }
      ]
    },
    {
      "cell_type": "code",
      "metadata": {
        "colab_type": "code",
        "id": "SRMWCu30bnxH",
        "colab": {}
      },
      "source": [
        "test_dataset = tf.data.experimental.make_csv_dataset(\n",
        "    test_fp,\n",
        "    batch_size,\n",
        "    column_names=column_names,\n",
        "    label_name='species',\n",
        "    num_epochs=1,\n",
        "    shuffle=False)\n",
        "\n",
        "test_dataset = test_dataset.map(pack_features_vector)"
      ],
      "execution_count": 0,
      "outputs": []
    },
    {
      "cell_type": "code",
      "metadata": {
        "colab_type": "code",
        "id": "Tw03-MK1cYId",
        "colab": {}
      },
      "source": [
        "test_accuracy = tf.keras.metrics.Accuracy()\n",
        "\n",
        "for (x, y) in test_dataset:\n",
        "  logits = model(x)\n",
        "  prediction = tf.argmax(logits, axis=1, output_type=tf.int32)\n",
        "  test_accuracy(prediction, y)\n",
        "\n",
        "print(\"Test set accuracy: {:.3%}\".format(test_accuracy.result()))"
      ],
      "execution_count": 0,
      "outputs": []
    },
    {
      "cell_type": "code",
      "metadata": {
        "colab_type": "code",
        "id": "uNwt2eMeOane",
        "colab": {}
      },
      "source": [
        "tf.stack([y,prediction],axis=1)"
      ],
      "execution_count": 0,
      "outputs": []
    },
    {
      "cell_type": "code",
      "metadata": {
        "colab_type": "code",
        "id": "kesTS5Lzv-M2",
        "colab": {}
      },
      "source": [
        "predict_dataset = tf.convert_to_tensor([\n",
        "    [5.1, 3.3, 1.7, 0.5,],\n",
        "    [5.9, 3.0, 4.2, 1.5,],\n",
        "    [6.9, 3.1, 5.4, 2.1]\n",
        "])\n",
        "\n",
        "predictions = model(predict_dataset)\n",
        "\n",
        "for i, logits in enumerate(predictions):\n",
        "  class_idx = tf.argmax(logits).numpy()\n",
        "  p = tf.nn.softmax(logits)[class_idx]\n",
        "  name = class_names[class_idx]\n",
        "  print(\"Example {} prediction: {} ({:4.1f}%)\".format(i, name, 100*p))"
      ],
      "execution_count": 0,
      "outputs": []
    },
    {
      "cell_type": "code",
      "metadata": {
        "colab_type": "code",
        "id": "JliO3dfQRcbg",
        "colab": {}
      },
      "source": [
        ""
      ],
      "execution_count": 0,
      "outputs": []
    }
  ]
}