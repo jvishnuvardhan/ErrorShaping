{
  "nbformat": 4,
  "nbformat_minor": 0,
  "metadata": {
    "colab": {
      "name": "tf_guide.ipynb",
      "version": "0.3.2",
      "provenance": [],
      "collapsed_sections": []
    },
    "kernelspec": {
      "name": "python3",
      "display_name": "Python 3"
    }
  },
  "cells": [
    {
      "cell_type": "code",
      "metadata": {
        "id": "7FlG4W_FRu_C",
        "colab_type": "code",
        "outputId": "2ba8652a-4f38-4de2-9c7f-683710464c85",
        "colab": {
          "base_uri": "https://localhost:8080/",
          "height": 421
        }
      },
      "source": [
        "!pip install tensorboardcolab\n",
        "!pip show tensorflow\n",
        "!pip install -q seaborn\n",
        "!pip install fitter\n",
        "\n",
        "from __future__ import absolute_import, division, print_function\n",
        "import pathlib\n",
        "import matplotlib.pyplot as plt\n",
        "import pandas as pd\n",
        "import seaborn as sns\n",
        "import numpy as np\n",
        "from sklearn import metrics\n",
        "import tensorflow as tf\n",
        "from math import sqrt\n",
        "from tensorboardcolab import TensorBoardColab, TensorBoardColabCallback\n",
        "import keras\n",
        "\n",
        "def prepare_data():\n",
        "  dataset_path = keras.utils.get_file(\"auto-mpg.data\", \"https://archive.ics.uci.edu/ml/machine-learning-databases/auto-mpg/auto-mpg.data\")\n",
        "  column_names = ['MPG','Cylinders','Displacement','Horsepower','Weight',\n",
        "                  'Acceleration', 'Model Year', 'Origin'] \n",
        "  raw_dataset = pd.read_csv(dataset_path, names=column_names,\n",
        "                            na_values = \"?\", comment='\\t',\n",
        "                            sep=\" \", skipinitialspace=True)\n",
        "  dataset = raw_dataset.copy()\n",
        "  dataset.isna().sum()\n",
        "  dataset = dataset.dropna()\n",
        "  origin = dataset.pop('Origin')\n",
        "  dataset['USA'] = (origin == 1)*1.0\n",
        "  dataset['Europe'] = (origin == 2)*1.0\n",
        "  dataset['Japan'] = (origin == 3)*1.0\n",
        "  train_dataset = dataset.sample(frac=0.8,random_state=0)\n",
        "  test_dataset = dataset.drop(train_dataset.index)\n",
        "  train_stats = train_dataset.describe()\n",
        "  train_stats.pop(\"MPG\")\n",
        "  train_stats = train_stats.transpose()\n",
        "  train_labels = train_dataset.pop('MPG')\n",
        "  print(train_labels[:2])\n",
        "  test_labels = test_dataset.pop('MPG')\n",
        "  def norm(x):\n",
        "    return (x - train_stats['mean']) / train_stats['std']\n",
        "  normed_train_data = norm(train_dataset)\n",
        "  normed_test_data = norm(test_dataset)\n",
        "  \n",
        "  return train_dataset, test_dataset, train_labels, test_labels,normed_train_data, normed_test_data "
      ],
      "execution_count": 30,
      "outputs": [
        {
          "output_type": "stream",
          "text": [
            "Requirement already satisfied: tensorboardcolab in /usr/local/lib/python3.6/dist-packages (0.0.22)\n",
            "Name: tensorflow\n",
            "Version: 1.14.0rc1\n",
            "Summary: TensorFlow is an open source machine learning framework for everyone.\n",
            "Home-page: https://www.tensorflow.org/\n",
            "Author: Google Inc.\n",
            "Author-email: packages@tensorflow.org\n",
            "License: Apache 2.0\n",
            "Location: /usr/local/lib/python3.6/dist-packages\n",
            "Requires: absl-py, tensorflow-estimator, termcolor, six, tensorboard, keras-applications, numpy, grpcio, wheel, google-pasta, protobuf, astor, gast, wrapt, keras-preprocessing\n",
            "Required-by: stable-baselines, magenta, fancyimpute\n",
            "Requirement already satisfied: fitter in /usr/local/lib/python3.6/dist-packages (1.1.11)\n",
            "Requirement already satisfied: scipy>=0.18 in /usr/local/lib/python3.6/dist-packages (from fitter) (1.3.0)\n",
            "Requirement already satisfied: pandas in /usr/local/lib/python3.6/dist-packages (from fitter) (0.24.2)\n",
            "Requirement already satisfied: numpy in /usr/local/lib/python3.6/dist-packages (from fitter) (1.16.4)\n",
            "Requirement already satisfied: matplotlib in /usr/local/lib/python3.6/dist-packages (from fitter) (3.0.3)\n",
            "Requirement already satisfied: python-dateutil>=2.5.0 in /usr/local/lib/python3.6/dist-packages (from pandas->fitter) (2.5.3)\n",
            "Requirement already satisfied: pytz>=2011k in /usr/local/lib/python3.6/dist-packages (from pandas->fitter) (2018.9)\n",
            "Requirement already satisfied: cycler>=0.10 in /usr/local/lib/python3.6/dist-packages (from matplotlib->fitter) (0.10.0)\n",
            "Requirement already satisfied: kiwisolver>=1.0.1 in /usr/local/lib/python3.6/dist-packages (from matplotlib->fitter) (1.1.0)\n",
            "Requirement already satisfied: pyparsing!=2.0.4,!=2.1.2,!=2.1.6,>=2.0.1 in /usr/local/lib/python3.6/dist-packages (from matplotlib->fitter) (2.4.0)\n",
            "Requirement already satisfied: six>=1.5 in /usr/local/lib/python3.6/dist-packages (from python-dateutil>=2.5.0->pandas->fitter) (1.12.0)\n",
            "Requirement already satisfied: setuptools in /usr/local/lib/python3.6/dist-packages (from kiwisolver>=1.0.1->matplotlib->fitter) (41.0.1)\n"
          ],
          "name": "stdout"
        }
      ]
    },
    {
      "cell_type": "markdown",
      "metadata": {
        "id": "GW1QrV5cNEAw",
        "colab_type": "text"
      },
      "source": [
        "#### This is a reimplementation of the model in `es.ipynb` with Tensorflow low level API to access the loss of each sample. \n",
        "\n",
        "Keras does not provide API to run `tf.Session()`, therefore, it is impossible to evaluate the inidividual `y_pred` tensor of each sample during training. The closest solution under keras framework is `callbacks.on_batch_begin` which is not desable for this project and badly limited debugging capacity. Below is a list of possible solutions I tried but turned out not working:\n",
        "\n",
        "* Access values of y_pred/y_true in each batch by defining custom_loss\n",
        "Failed, because I can’t find out how to print or eval tensor y_pred/p_true\n",
        "\n",
        "* Pass losses to custom_loss by defining callbacks\n",
        "Failed because callbacks is called in model.fit() leaving it uninitialized when being called by custom_loss which is given in model.compile()\n",
        "\n",
        "* Predict a batch of models by processing same models paralelly\n",
        "Failed, because models have to be connected together at some point to be processed together which will introduce artificial weights\n",
        "\n",
        "#### What I will do next:\n",
        "\n",
        "* Finally, this research is concentrating on traffic image data, it is not feasable to reimplement those popular models in such low level API, therefore I will try `Eager Execution` and `Estimator` next step.\n"
      ]
    },
    {
      "cell_type": "code",
      "metadata": {
        "id": "dxyI5BszObDW",
        "colab_type": "code",
        "colab": {}
      },
      "source": [
        "def plot_bar(errors, num):\n",
        "    plt.hist(errors, bins = 20)\n",
        "    plt.xlabel(\"Prediction Error [MPG]\")\n",
        "    title = \"epoch:\" + str(num)\n",
        "    plt.title(title)\n",
        "    _ = plt.ylabel(\"Count\")\n",
        "    plt.show()\n",
        "    plt.savefig(title)"
      ],
      "execution_count": 0,
      "outputs": []
    },
    {
      "cell_type": "code",
      "metadata": {
        "id": "XVl-8lUGz2Jg",
        "colab_type": "code",
        "outputId": "3c49936a-b7c2-403d-eb66-458c38aacfd8",
        "colab": {
          "base_uri": "https://localhost:8080/",
          "height": 1000
        }
      },
      "source": [
        "train_dataset, test_dataset, train_labels, test_labels, normed_train_data, normed_test_data = prepare_data()\n",
        "train_dataset = train_dataset.values\n",
        "train_labels = train_labels.values\n",
        "test_dataset = test_dataset.values\n",
        "test_labels = test_labels.values\n",
        "train_labels = np.reshape(train_labels, [train_labels.shape[0],1])\n",
        "test_labels = np.reshape(test_labels, [test_labels.shape[0],1])\n",
        "\n",
        "# Parameters\n",
        "learning_rate = 0.001\n",
        "batch_size = 32\n",
        "display_step = 1\n",
        "epochs = 1000\n",
        "\n",
        "# Network Parameters\n",
        "n_hidden_1 = 64 # 1st layer number of neurons\n",
        "n_hidden_2 = 64 # 2nd layer number of neurons\n",
        "n_input = 9 # dataset has 9 features\n",
        "n_output = 1 # regress to single value MPG\n",
        "\n",
        "# tf Graph input\n",
        "x = tf.placeholder(\"float\", [None, n_input], name = 'placeholder_x')\n",
        "y = tf.placeholder(\"float\", [None, 1], name = 'placeholder_y')\n",
        "\n",
        "# Store layers weight & bias\n",
        "weights = {\n",
        "    'h1': tf.Variable(tf.random_normal([n_input, n_hidden_1])),\n",
        "    'h2': tf.Variable(tf.random_normal([n_hidden_1, n_hidden_2])),\n",
        "    'out': tf.Variable(tf.random_normal([n_hidden_2, n_output]))\n",
        "}\n",
        "biases = {\n",
        "    'b1': tf.Variable(tf.random_normal([n_hidden_1])),\n",
        "    'b2': tf.Variable(tf.random_normal([n_hidden_2])),\n",
        "    'out': tf.Variable(tf.random_normal([n_output]))\n",
        "}\n",
        "\n",
        "# Create model\n",
        "def multilayer_perceptron(x):\n",
        "    # Hidden fully connected layer with 256 neurons\n",
        "    layer_1 = tf.nn.relu(tf.add(tf.matmul(x, weights['h1']), biases['b1']))\n",
        "    # Hidden fully connected layer with 256 neurons\n",
        "    layer_2 = tf.nn.relu(tf.add(tf.matmul(layer_1, weights['h2']), biases['b2']))\n",
        "    # Output fully connected layer with a neuron for each class\n",
        "    out_layer = tf.matmul(layer_2, weights['out']) + biases['out']\n",
        "    return out_layer # no activation function for the output layer\n",
        "\n",
        "# Construct model\n",
        "y_pred = multilayer_perceptron(x)\n",
        "\n",
        "\n",
        "# define a loss function\n",
        "mse = tf.losses.mean_squared_error(labels = y, predictions = y_pred)\n",
        "                       \n",
        "optimizer = tf.train.AdamOptimizer(learning_rate=learning_rate).minimize(mse)\n",
        "# Initializing the variables\n",
        "init = tf.global_variables_initializer()\n",
        "\n",
        "\n",
        "with tf.Session() as sess:\n",
        "\t\t# initialize variables\n",
        "\t\tsess.run(init)\n",
        "\t\t# find the total number of batches\n",
        "\t\ttotal_batch = int(train_dataset.shape[0] / batch_size)\n",
        "\t\t# now run for each epoch\n",
        "\t\tfor epoch in range(epochs):\n",
        "\t\t\tavg_cost = 0\n",
        "\t\t\tfor i in range(total_batch):\n",
        "\t\t\t\tstart = i * batch_size\n",
        "\t\t\t\tend = min(i*batch_size + batch_size, train_dataset.shape[0])\n",
        "\t\t\t\tx_batch, y_batch = train_dataset[start:end, :], train_labels[start:end, :]\n",
        "\t\t\t\t_, c = sess.run([optimizer, mse], feed_dict = {x: x_batch, y: y_batch})\n",
        "\t\t\t\tavg_cost += c / total_batch\n",
        "        \n",
        "\t\t\tif epoch % 200 ==0:\n",
        "\t\t\t\tpred = sess.run(y_pred, feed_dict = {x: x_batch})\n",
        "\t\t\t\tprint(\"--------------------\")\n",
        "\t\t\t\t#print('Epoch:', epoch, pred)\n",
        "\t\t\t\terrors = y_batch - pred\n",
        "\t\t\t\tplot_bar(errors, epoch)\n",
        "\t\t\t\tprint(\"--------------------\")\n",
        "\t\t\t\tprint('Epoch:', epoch, ', Cost =', avg_cost)\n",
        "\n",
        "\t\tprint(sqrt(sess.run(mse, feed_dict = {x: test_dataset, y: test_labels})))\n",
        "\t\t# keep the prediction for later\n",
        "\t\tpred = sess.run(y_pred, feed_dict = {x:test_dataset})"
      ],
      "execution_count": 0,
      "outputs": [
        {
          "output_type": "stream",
          "text": [
            "146    28.0\n",
            "282    22.3\n",
            "Name: MPG, dtype: float64\n",
            "--------------------\n"
          ],
          "name": "stdout"
        },
        {
          "output_type": "display_data",
          "data": {
            "image/png": "[encoded data removed]",
            "text/plain": [
              "<Figure size 432x288 with 1 Axes>"
            ]
          },
          "metadata": {
            "tags": []
          }
        },
        {
          "output_type": "stream",
          "text": [
            "--------------------\n",
            "Epoch: 0 , Cost = 11970853205.333334\n",
            "--------------------\n"
          ],
          "name": "stdout"
        },
        {
          "output_type": "display_data",
          "data": {
            "image/png": "[encoded data removed]",
            "text/plain": [
              "<Figure size 432x288 with 1 Axes>"
            ]
          },
          "metadata": {
            "tags": []
          }
        },
        {
          "output_type": "stream",
          "text": [
            "--------------------\n",
            "Epoch: 200 , Cost = 382875.8541666667\n",
            "--------------------\n"
          ],
          "name": "stdout"
        },
        {
          "output_type": "display_data",
          "data": {
            "image/png": "[encoded data removed]",
            "text/plain": [
              "<Figure size 432x288 with 1 Axes>"
            ]
          },
          "metadata": {
            "tags": []
          }
        },
        {
          "output_type": "stream",
          "text": [
            "--------------------\n",
            "Epoch: 400 , Cost = 100685.23090277778\n",
            "--------------------\n"
          ],
          "name": "stdout"
        },
        {
          "output_type": "display_data",
          "data": {
            "image/png": "[encoded data removed]",
            "text/plain": [
              "<Figure size 432x288 with 1 Axes>"
            ]
          },
          "metadata": {
            "tags": []
          }
        },
        {
          "output_type": "stream",
          "text": [
            "--------------------\n",
            "Epoch: 600 , Cost = 31509.748697916668\n",
            "--------------------\n"
          ],
          "name": "stdout"
        },
        {
          "output_type": "display_data",
          "data": {
            "image/png": "[encoded data removed]",
            "text/plain": [
              "<Figure size 432x288 with 1 Axes>"
            ]
          },
          "metadata": {
            "tags": []
          }
        },
        {
          "output_type": "stream",
          "text": [
            "--------------------\n",
            "Epoch: 800 , Cost = 5067.981282552083\n",
            "49.25736828209689\n"
          ],
          "name": "stdout"
        },
        {
          "output_type": "display_data",
          "data": {
            "text/plain": [
              "<Figure size 432x288 with 0 Axes>"
            ]
          },
          "metadata": {
            "tags": []
          }
        }
      ]
    },
    {
      "cell_type": "markdown",
      "metadata": {
        "id": "h8o7DurhQzkd",
        "colab_type": "text"
      },
      "source": [
        "The prediction is clealy improved with the naive `mse` loss. I ignored the possible good practice of  `early_stopping` here since I probably will migrate everything again to `Eager Execution` later. \n",
        "\n",
        "Now we reproduced the model, we will go ahead define the loss function.\n",
        "\n",
        "Note that KL divergence cannot be used to measure the distance between a pdf and a pmd, so we need to infer the error distribution from the data first. \n",
        "\n",
        "There are two ways to do this:\n",
        "\n",
        "\n",
        "*   fitting to the best know distribution\n",
        "*   curve fitting\n",
        "\n",
        "We hope the first one will work since it will give a better explanation and a possible analytical tractable statistics. Let's try out the first one first. \n",
        "\n",
        "Fitting data to a distribution is a very costly computationally, especially given how many batchs and epochs a task usually takes. But we are not very concerned with training time in this project. Here, we used a library called `fitter`, it provides 80ish distributions. Also, the following two aspects can be improved to speed up this distance calculation:\n",
        "\n",
        "* implement on GPU. This is paralellizable because we can try out all possible distribution simultanously. \n",
        "* limit the potential distributions. All 80ish distributions are tested out here. "
      ]
    },
    {
      "cell_type": "code",
      "metadata": {
        "id": "0aqIOPMMklB5",
        "colab_type": "code",
        "outputId": "af563a01-3c5d-4dee-e195-6630986738df",
        "colab": {
          "base_uri": "https://localhost:8080/",
          "height": 406
        }
      },
      "source": [
        "from fitter import Fitter\n",
        "f = Fitter(errors)\n",
        "f.fit()\n",
        "print(f.summary())\n",
        "\n",
        "\"\"\"\n",
        "Fitted alpha distribution with error=2.5896434941593034e-06)\n",
        "Fitted anglit distribution with error=1.8490308166175003e-06)\n",
        "Fitted arcsine distribution with error=2.3650134274947353e-06)\n",
        "Fitted argus distribution with error=1.6705936419216382e-06)\n",
        "Fitted beta distribution with error=9.775074086877225e-07)\n",
        "Fitted betaprime distribution with error=3.932034388814638e-06)\n",
        "Fitted bradford distribution with error=2.0275224201997635e-06)\n",
        "Fitted burr distribution with error=3.1779368224083834e-06)\n",
        "Fitted burr12 distribution with error=3.3938193992295923e-06)\n",
        "Fitted cauchy distribution with error=5.852733098970629e-07)\n",
        "Fitted chi distribution with error=2.5767699020623483e-06)\n",
        "Fitted chi2 distribution with error=2.536480829234903e-06)\n",
        "Fitted cosine distribution with error=1.6933543903261163e-06)\n",
        "Fitted crystalball distribution with error=9.979767408215378e-07)\n",
        "Fitted dgamma distribution with error=6.106380511441577e-07)\n",
        "Fitted dweibull distribution with error=5.930971161049491e-07)\n",
        "Fitted erlang distribution with error=2.5767699020623483e-06)\n",
        "Fitted expon distribution with error=2.3593689413192375e-06)\n",
        "Fitted gengamma distribution with error=3.798294053829713e-06)\n",
        "Fitted genhalflogistic distribution with error=1.8665745961974646e-06)\n",
        "Fitted genlogistic distribution with error=7.201253730508548e-07)\n",
        "Fitted gennorm distribution with error=5.896728594637419e-07)\n",
        "Fitted genpareto distribution with error=3.4260105798267425e-06)\n",
        "Fitted gilbrat distribution with error=2.245159964161285e-06)\n",
        "Fitted gompertz distribution with error=2.5767699020623483e-06)\n",
        "Fitted gumbel_l distribution with error=1.0537582416010148e-06)\n",
        "Fitted gumbel_r distribution with error=1.5629413141089086e-06)\n",
        "Fitted halfcauchy distribution with error=2.3050050431287403e-06)\n",
        "Fitted halfgennorm distribution with error=2.863196358138618e-06)\n",
        "Fitted halflogistic distribution with error=2.255705033437357e-06)\n",
        "Fitted halfnorm distribution with error=2.237239554714266e-06)\n",
        "Fitted hypsecant distribution with error=6.550145015133801e-07)\n",
        "Fitted invgamma distribution with error=1.2033554671245813e-06)\n",
        "Fitted invgauss distribution with error=2.3575385356709234e-06)\n",
        "Fitted invweibull distribution with error=2.920052067132609e-06)\n",
        "Fitted johnsonsb distribution with error=9.449127678636675e-07)\n",
        "Fitted johnsonsu distribution with error=5.689559180234113e-07)\n",
        "Fitted kappa3 distribution with error=2.9795608572648376e-06)\n",
        "Fitted kappa4 distribution with error=2.000734392053004e-06)\n",
        "Fitted ksone distribution with error=2.027058989622382e-06)\n",
        "Fitted kstwobign distribution with error=2.5767699020623483e-06)\n",
        "Fitted laplace distribution with error=5.896459965945434e-07)\n",
        "Fitted levy distribution with error=2.3575236827892297e-06)\n",
        "Fitted levy_l distribution with error=2.0459599386881123e-06)\n",
        "SKIPPED levy_stable distribution (taking more than 30 seconds)\n",
        "Fitted loggamma distribution with error=9.302238786446436e-07)\n",
        "Fitted logistic distribution with error=7.125921794153209e-07)\n",
        "Fitted loglaplace distribution with error=2.761080438959571e-06)\n",
        "Fitted lognorm distribution with error=2.8973587150062048e-06)\n",
        "Fitted lomax distribution with error=3.6380518541770345e-06)\n",
        "Fitted maxwell distribution with error=2.5767699020623483e-06)\n",
        "Fitted mielke distribution with error=1.7766248979920645e-06)\n",
        "Fitted moyal distribution with error=1.0679582260725692e-06)\n",
        "Fitted nakagami distribution with error=2.5767699020623483e-06)\n",
        "Fitted ncf distribution with error=3.1779843779208683e-06)\n",
        "Fitted nct distribution with error=5.726556988406777e-07)\n",
        "Fitted ncx2 distribution with error=2.5744125170411347e-06)\n",
        "Fitted norm distribution with error=9.97976730889163e-07)\n",
        "Fitted norminvgauss distribution with error=2.3014483124511963e-06)\n",
        "Fitted pareto distribution with error=3.637767279721138e-06)\n",
        "Fitted pearson3 distribution with error=9.542329537371274e-07)\n",
        "Fitted powerlaw distribution with error=1.8186637279548118e-06)\n",
        "Fitted powerlognorm distribution with error=3.011884486309778e-06)\n",
        "Fitted powernorm distribution with error=9.387474393488969e-07)\n",
        "Fitted rayleigh distribution with error=1.9500437802475487e-06)\n",
        "Fitted rdist distribution with error=3.5906412544799025e-06)\n",
        "Fitted recipinvgauss distribution with error=9.681082785490822e-07)\n",
        "Fitted reciprocal distribution with error=2.5767699020623483e-06)\n",
        "Fitted rice distribution with error=2.5767699020623483e-06)\n",
        "SKIPPED rv_continuous distribution (taking more than 30 seconds)\n",
        "SKIPPED rv_histogram distribution (taking more than 30 seconds)\n",
        "Fitted semicircular distribution with error=1.957063462230919e-06)\n",
        "Fitted skewnorm distribution with error=9.97976723164225e-07)\n",
        "Fitted t distribution with error=5.761148986749734e-07)\n",
        "Fitted trapz distribution with error=1.8035907945119612e-06)\n",
        "Fitted triang distribution with error=1.5165715831406176e-06)\n",
        "Fitted truncexpon distribution with error=2.2015867586006195e-06)\n",
        "Fitted truncnorm distribution with error=2.5767699020623483e-06)\n",
        "Fitted tukeylambda distribution with error=5.72900098009525e-07)\n",
        "Fitted uniform distribution with error=2.027058989622382e-06)\n",
        "Fitted vonmises distribution with error=1.1001518943824533e+61)\n",
        "Fitted vonmises_line distribution with error=8.158148122394506e-07)\n",
        "Fitted wald distribution with error=2.2130802719697525e-06)\n",
        "Fitted weibull_max distribution with error=2.6491046157408397e-06)\n",
        "Fitted weibull_min distribution with error=2.7089484496990918e-06)\n",
        "\n",
        "\"\"\""
      ],
      "execution_count": 0,
      "outputs": [
        {
          "output_type": "stream",
          "text": [
            "             sumsquare_error\n",
            "johnsonsu       5.689559e-07\n",
            "nct             5.726557e-07\n",
            "tukeylambda     5.729001e-07\n",
            "t               5.761149e-07\n",
            "cauchy          5.852733e-07\n"
          ],
          "name": "stdout"
        },
        {
          "output_type": "execute_result",
          "data": {
            "text/plain": [
              "'\\nFitted alpha distribution with error=2.5896434941593034e-06)\\nFitted anglit distribution with error=1.8490308166175003e-06)\\nFitted arcsine distribution with error=2.3650134274947353e-06)\\nFitted argus distribution with error=1.6705936419216382e-06)\\nFitted beta distribution with error=9.775074086877225e-07)\\nFitted betaprime distribution with error=3.932034388814638e-06)\\nFitted bradford distribution with error=2.0275224201997635e-06)\\nFitted burr distribution with error=3.1779368224083834e-06)\\nFitted burr12 distribution with error=3.3938193992295923e-06)\\nFitted cauchy distribution with error=5.852733098970629e-07)\\nFitted chi distribution with error=2.5767699020623483e-06)\\nFitted chi2 distribution with error=2.536480829234903e-06)\\nFitted cosine distribution with error=1.6933543903261163e-06)\\nFitted crystalball distribution with error=9.979767408215378e-07)\\nFitted dgamma distribution with error=6.106380511441577e-07)\\nFitted dweibull distribution with error=5.930971161049491e-07)\\nFitted erlang distribution with error=2.5767699020623483e-06)\\nFitted expon distribution with error=2.3593689413192375e-06)\\nFitted gengamma distribution with error=3.798294053829713e-06)\\nFitted genhalflogistic distribution with error=1.8665745961974646e-06)\\nFitted genlogistic distribution with error=7.201253730508548e-07)\\nFitted gennorm distribution with error=5.896728594637419e-07)\\nFitted genpareto distribution with error=3.4260105798267425e-06)\\nFitted gilbrat distribution with error=2.245159964161285e-06)\\nFitted gompertz distribution with error=2.5767699020623483e-06)\\nFitted gumbel_l distribution with error=1.0537582416010148e-06)\\nFitted gumbel_r distribution with error=1.5629413141089086e-06)\\nFitted halfcauchy distribution with error=2.3050050431287403e-06)\\nFitted halfgennorm distribution with error=2.863196358138618e-06)\\nFitted halflogistic distribution with error=2.255705033437357e-06)\\nFitted halfnorm distribution with error=2.237239554714266e-06)\\nFitted hypsecant distribution with error=6.550145015133801e-07)\\nFitted invgamma distribution with error=1.2033554671245813e-06)\\nFitted invgauss distribution with error=2.3575385356709234e-06)\\nFitted invweibull distribution with error=2.920052067132609e-06)\\nFitted johnsonsb distribution with error=9.449127678636675e-07)\\nFitted johnsonsu distribution with error=5.689559180234113e-07)\\nFitted kappa3 distribution with error=2.9795608572648376e-06)\\nFitted kappa4 distribution with error=2.000734392053004e-06)\\nFitted ksone distribution with error=2.027058989622382e-06)\\nFitted kstwobign distribution with error=2.5767699020623483e-06)\\nFitted laplace distribution with error=5.896459965945434e-07)\\nFitted levy distribution with error=2.3575236827892297e-06)\\nFitted levy_l distribution with error=2.0459599386881123e-06)\\nSKIPPED levy_stable distribution (taking more than 30 seconds)\\nFitted loggamma distribution with error=9.302238786446436e-07)\\nFitted logistic distribution with error=7.125921794153209e-07)\\nFitted loglaplace distribution with error=2.761080438959571e-06)\\nFitted lognorm distribution with error=2.8973587150062048e-06)\\nFitted lomax distribution with error=3.6380518541770345e-06)\\nFitted maxwell distribution with error=2.5767699020623483e-06)\\nFitted mielke distribution with error=1.7766248979920645e-06)\\nFitted moyal distribution with error=1.0679582260725692e-06)\\nFitted nakagami distribution with error=2.5767699020623483e-06)\\nFitted ncf distribution with error=3.1779843779208683e-06)\\nFitted nct distribution with error=5.726556988406777e-07)\\nFitted ncx2 distribution with error=2.5744125170411347e-06)\\nFitted norm distribution with error=9.97976730889163e-07)\\nFitted norminvgauss distribution with error=2.3014483124511963e-06)\\nFitted pareto distribution with error=3.637767279721138e-06)\\nFitted pearson3 distribution with error=9.542329537371274e-07)\\nFitted powerlaw distribution with error=1.8186637279548118e-06)\\nFitted powerlognorm distribution with error=3.011884486309778e-06)\\nFitted powernorm distribution with error=9.387474393488969e-07)\\nFitted rayleigh distribution with error=1.9500437802475487e-06)\\nFitted rdist distribution with error=3.5906412544799025e-06)\\nFitted recipinvgauss distribution with error=9.681082785490822e-07)\\nFitted reciprocal distribution with error=2.5767699020623483e-06)\\nFitted rice distribution with error=2.5767699020623483e-06)\\nSKIPPED rv_continuous distribution (taking more than 30 seconds)\\nSKIPPED rv_histogram distribution (taking more than 30 seconds)\\nFitted semicircular distribution with error=1.957063462230919e-06)\\nFitted skewnorm distribution with error=9.97976723164225e-07)\\nFitted t distribution with error=5.761148986749734e-07)\\nFitted trapz distribution with error=1.8035907945119612e-06)\\nFitted triang distribution with error=1.5165715831406176e-06)\\nFitted truncexpon distribution with error=2.2015867586006195e-06)\\nFitted truncnorm distribution with error=2.5767699020623483e-06)\\nFitted tukeylambda distribution with error=5.72900098009525e-07)\\nFitted uniform distribution with error=2.027058989622382e-06)\\nFitted vonmises distribution with error=1.1001518943824533e+61)\\nFitted vonmises_line distribution with error=8.158148122394506e-07)\\nFitted wald distribution with error=2.2130802719697525e-06)\\nFitted weibull_max distribution with error=2.6491046157408397e-06)\\nFitted weibull_min distribution with error=2.7089484496990918e-06)\\n\\n'"
            ]
          },
          "metadata": {
            "tags": []
          },
          "execution_count": 29
        },
        {
          "output_type": "display_data",
          "data": {
            "image/png": "[encoded data removed]",
            "text/plain": [
              "<Figure size 432x288 with 1 Axes>"
            ]
          },
          "metadata": {
            "tags": []
          }
        }
      ]
    },
    {
      "cell_type": "markdown",
      "metadata": {
        "id": "DPa3cTyYSMDq",
        "colab_type": "text"
      },
      "source": [
        "In this specific example, the best fitted distribution is Johnson's SU-distribution with the listed 4 parameters. \n",
        "\n",
        "Now, we need to reconstruct this distribution via the language of tensorflow. "
      ]
    },
    {
      "cell_type": "code",
      "metadata": {
        "id": "cqDQt_yMM6Y3",
        "colab_type": "code",
        "outputId": "28834087-62f9-4594-a931-693f53cb9483",
        "colab": {
          "base_uri": "https://localhost:8080/",
          "height": 84
        }
      },
      "source": [
        "print(f.get_best())"
      ],
      "execution_count": 0,
      "outputs": [
        {
          "output_type": "execute_result",
          "data": {
            "text/plain": [
              "{'johnsonsu': (-0.02971723716650601,\n",
              "  0.890681179295507,\n",
              "  0.5038289220040495,\n",
              "  753.7279967421016)}"
            ]
          },
          "metadata": {
            "tags": []
          },
          "execution_count": 26
        }
      ]
    },
    {
      "cell_type": "markdown",
      "metadata": {
        "id": "1lSl-VOqVUfJ",
        "colab_type": "text"
      },
      "source": [
        "Unfortunately, `tfp`(`tensorflow_probability`, a library has to be installed seaprately from `tf`)  does not support this distribution, so we will try other candidate distributions.  The distributions [supported](https://www.tensorflow.org/api_docs/python/tf/distributions) by `tfp` are: \n",
        "\n",
        "* Bernoulli distribution.\n",
        "\n",
        "* Beta distribution.\n",
        "\n",
        "* Categorical distribution.\n",
        "\n",
        "* Dirichlet distribution.\n",
        "\n",
        "* Dirichlet-Multinomial compound distribution.\n",
        "\n",
        "* Exponential distribution.\n",
        "\n",
        "* Gamma distribution.\n",
        "\n",
        "* Laplace distribution.\n",
        "\n",
        "* Multinomial distribution.\n",
        "\n",
        "* Normal distribution.\n",
        "\n",
        "* Student's t-distribution.\n",
        "\n",
        "* Uniform distribution\n",
        "\n",
        "\n",
        "\n",
        "`nct` ([Noncentral t-distribution](https://en.wikipedia.org/wiki/Noncentral_t-distribution)) is a geralization of Student's t-distribution. \n",
        "\n",
        "Now, let's consider curve fitting.\n",
        "\n",
        "Curve fitting requres data has 2 dimensions, we can achieve this by further discrete and accumulate points to have `count` as y value, but this will introduce subjectivity. \n",
        "\n",
        "The traditional way of curve fitting is to define the degree of your polynomial curve function, this hyper-parameter selection needs we visualize the data which is infeasible in this project. So the only reasonable way is to use a simplist neuranet work to approximate the error distribution curve. \n",
        "\n",
        "Give these two barriers, I will skip this option and assum the errors follows a known distribution. "
      ]
    },
    {
      "cell_type": "code",
      "metadata": {
        "id": "yESyW4s-SKwv",
        "colab_type": "code",
        "colab": {}
      },
      "source": [
        ""
      ],
      "execution_count": 0,
      "outputs": []
    }
  ]
}